{
  "nbformat": 4,
  "nbformat_minor": 0,
  "metadata": {
    "colab": {
      "provenance": [],
      "include_colab_link": true
    },
    "kernelspec": {
      "display_name": "Python 3",
      "language": "python",
      "name": "python3"
    },
    "language_info": {
      "codemirror_mode": {
        "name": "ipython",
        "version": 3
      },
      "file_extension": ".py",
      "mimetype": "text/x-python",
      "name": "python",
      "nbconvert_exporter": "python",
      "pygments_lexer": "ipython3",
      "version": "3.7.1"
    }
  },
  "cells": [
    {
      "cell_type": "markdown",
      "metadata": {
        "id": "view-in-github",
        "colab_type": "text"
      },
      "source": [
        "<a href=\"https://colab.research.google.com/github/srinivas2234/Applied-Data-Science-with-Python-Specialization/blob/main/Copy_of_Assignment_3_Instructions.ipynb\" target=\"_parent\"><img src=\"https://colab.research.google.com/assets/colab-badge.svg\" alt=\"Open In Colab\"/></a>"
      ]
    },
    {
      "cell_type": "markdown",
      "metadata": {
        "id": "h9464I-uxLiw"
      },
      "source": [
        "# Assignment"
      ]
    },
    {
      "cell_type": "markdown",
      "metadata": {
        "id": "IvLvmewlxLix"
      },
      "source": [
        "<font face='georgia'>\n",
        "    \n",
        "   <h4><strong>What does tf-idf mean?</strong></h4>\n",
        "\n",
        "   <p>    \n",
        "Tf-idf stands for <em>term frequency-inverse document frequency</em>, and the tf-idf weight is a weight often used in information retrieval and text mining. This weight is a statistical measure used to evaluate how important a word is to a document in a collection or corpus. The importance increases proportionally to the number of times a word appears in the document but is offset by the frequency of the word in the corpus. Variations of the tf-idf weighting scheme are often used by search engines as a central tool in scoring and ranking a document's relevance given a user query.\n",
        "</p>\n",
        "    \n",
        "   <p>\n",
        "One of the simplest ranking functions is computed by summing the tf-idf for each query term; many more sophisticated ranking functions are variants of this simple model.\n",
        "</p>\n",
        "    \n",
        "   <p>\n",
        "Tf-idf can be successfully used for stop-words filtering in various subject fields including text summarization and classification.\n",
        "</p>\n",
        "    \n",
        "</font>"
      ]
    },
    {
      "cell_type": "markdown",
      "metadata": {
        "id": "4XLaGFUMxLiy"
      },
      "source": [
        "<font face='georgia'>\n",
        "    <h4><strong>How to Compute:</strong></h4>\n",
        "\n",
        "Typically, the tf-idf weight is composed by two terms: the first computes the normalized Term Frequency (TF), aka. the number of times a word appears in a document, divided by the total number of words in that document; the second term is the Inverse Document Frequency (IDF), computed as the logarithm of the number of the documents in the corpus divided by the number of documents where the specific term appears.\n",
        "\n",
        " <ul>\n",
        "    <li>\n",
        "<strong>TF:</strong> Term Frequency, which measures how frequently a term occurs in a document. Since every document is different in length, it is possible that a term would appear much more times in long documents than shorter ones. Thus, the term frequency is often divided by the document length (aka. the total number of terms in the document) as a way of normalization: <br>\n",
        "\n",
        "$TF(t) = \\frac{\\text{Number of times term t appears in a document}}{\\text{Total number of terms in the document}}.$\n",
        "</li>\n",
        "<li>\n",
        "<strong>IDF:</strong> Inverse Document Frequency, which measures how important a term is. While computing TF, all terms are considered equally important. However it is known that certain terms, such as \"is\", \"of\", and \"that\", may appear a lot of times but have little importance. Thus we need to weigh down the frequent terms while scale up the rare ones, by computing the following: <br>\n",
        "\n",
        "$IDF(t) = \\log_{e}\\frac{\\text{Total  number of documents}} {\\text{Number of documents with term t in it}}.$\n",
        "for numerical stabiltiy we will be changing this formula little bit\n",
        "$IDF(t) = \\log_{e}\\frac{\\text{Total  number of documents}} {\\text{Number of documents with term t in it}+1}.$\n",
        "</li>\n",
        "</ul>\n",
        "\n",
        "<br>\n",
        "<h4><strong>Example</strong></h4>\n",
        "<p>\n",
        "\n",
        "Consider a document containing 100 words wherein the word cat appears 3 times. The term frequency (i.e., tf) for cat is then (3 / 100) = 0.03. Now, assume we have 10 million documents and the word cat appears in one thousand of these. Then, the inverse document frequency (i.e., idf) is calculated as log(10,000,000 / 1,000) = 4. Thus, the Tf-idf weight is the product of these quantities: 0.03 * 4 = 0.12.\n",
        "</p>\n",
        "</font>"
      ]
    },
    {
      "cell_type": "markdown",
      "metadata": {
        "id": "dg2ooa4DxLiz"
      },
      "source": [
        "## Task-1"
      ]
    },
    {
      "cell_type": "markdown",
      "metadata": {
        "id": "TAcTjhO8xLiz"
      },
      "source": [
        "<font face='georgia'>\n",
        "    <h4><strong>1. Build a TFIDF Vectorizer & compare its results with Sklearn:</strong></h4>\n",
        "\n",
        "<ul>\n",
        "    <li> As a part of this task you will be implementing TFIDF vectorizer on a collection of text documents.</li>\n",
        "    <br>\n",
        "    <li> You should compare the results of your own implementation of TFIDF vectorizer with that of sklearns implemenation TFIDF vectorizer.</li>\n",
        "    <br>\n",
        "    <li> Sklearn does few more tweaks in the implementation of its version of TFIDF vectorizer, so to replicate the exact results you would need to add following things to your custom implementation of tfidf vectorizer:\n",
        "       <ol>\n",
        "        <li> Sklearn has its vocabulary generated from idf sroted in alphabetical order</li>\n",
        "        <li> Sklearn formula of idf is different from the standard textbook formula. Here the constant <strong>\"1\"</strong> is added to the numerator and denominator of the idf as if an extra document was seen containing every term in the collection exactly once, which prevents zero divisions.\n",
        "            \n",
        " $IDF(t) = 1+\\log_{e}\\frac{1\\text{ }+\\text{ Total  number of documents in collection}} {1+\\text{Number of documents with term t in it}}.$\n",
        "        </li>\n",
        "        <li> Sklearn applies L2-normalization on its output matrix.</li>\n",
        "        <li> The final output of sklearn tfidf vectorizer is a sparse matrix.</li>\n",
        "    </ol>\n",
        "    <br>\n",
        "    <li>Steps to approach this task:\n",
        "    <ol>\n",
        "        <li> You would have to write both fit and transform methods for your custom implementation of tfidf vectorizer.</li>\n",
        "        <li> Print out the alphabetically sorted voacb after you fit your data and check if its the same as that of the feature names from sklearn tfidf vectorizer. </li>\n",
        "        <li> Print out the idf values from your implementation and check if its the same as that of sklearns tfidf vectorizer idf values. </li>\n",
        "        <li> Once you get your voacb and idf values to be same as that of sklearns implementation of tfidf vectorizer, proceed to the below steps. </li>\n",
        "        <li> Make sure the output of your implementation is a sparse matrix. Before generating the final output, you need to normalize your sparse matrix using L2 normalization. You can refer to this link https://scikit-learn.org/stable/modules/generated/sklearn.preprocessing.normalize.html </li>\n",
        "        <li> After completing the above steps, print the output of your custom implementation and compare it with sklearns implementation of tfidf vectorizer.</li>\n",
        "        <li> To check the output of a single document in your collection of documents,  you can convert the sparse matrix related only to that document into dense matrix and print it.</li>\n",
        "        </ol>\n",
        "    </li>\n",
        "    <br>\n",
        "   </ul>\n",
        "\n",
        "  <p> <font color=\"#e60000\"><strong>Note-1: </strong></font> All the necessary outputs of sklearns tfidf vectorizer have been provided as reference in this notebook, you can compare your outputs as mentioned in the above steps, with these outputs.<br>\n",
        "   <font color=\"#e60000\"><strong>Note-2: </strong></font> The output of your custom implementation and that of sklearns implementation would match only with the collection of document strings provided to you as reference in this notebook. It would not match for strings that contain capital letters or punctuations, etc, because sklearn version of tfidf vectorizer deals with such strings in a different way. To know further details about how sklearn tfidf vectorizer works with such string, you can always refer to its official documentation.<br>\n",
        "   <font color=\"#e60000\"><strong>Note-3: </strong></font> During this task, it would be helpful for you to debug the code you write with print statements wherever necessary. But when you are finally submitting the assignment, make sure your code is readable and try not to print things which are not part of this task.\n",
        "    </p>"
      ]
    },
    {
      "cell_type": "markdown",
      "metadata": {
        "id": "OnV82tg1xLi0"
      },
      "source": [
        "### Corpus"
      ]
    },
    {
      "cell_type": "code",
      "metadata": {
        "id": "bUsYm9wjxLi1"
      },
      "source": [
        "## SkLearn# Collection of string documents\n",
        "\n",
        "corpus = [\n",
        "     'this is the first document',\n",
        "     'this document is the second document',\n",
        "     'and this is the third one',\n",
        "     'is this the first document',\n",
        "]"
      ],
      "execution_count": null,
      "outputs": []
    },
    {
      "cell_type": "markdown",
      "metadata": {
        "id": "eLwmFZfKxLi4"
      },
      "source": [
        "### SkLearn Implementation"
      ]
    },
    {
      "cell_type": "code",
      "metadata": {
        "id": "Np4dfQOkxLi4"
      },
      "source": [
        "from sklearn.feature_extraction.text import TfidfVectorizer\n",
        "vectorizer = TfidfVectorizer()\n",
        "vectorizer.fit(corpus)\n",
        "skl_output = vectorizer.transform(corpus)"
      ],
      "execution_count": null,
      "outputs": []
    },
    {
      "cell_type": "code",
      "metadata": {
        "id": "-7Om8YpYxLi6"
      },
      "source": [
        "# sklearn feature names, they are sorted in alphabetic order by default.\n",
        "\n",
        "print(vectorizer.get_feature_names())"
      ],
      "execution_count": null,
      "outputs": []
    },
    {
      "cell_type": "code",
      "metadata": {
        "id": "dTKplK96xLi-"
      },
      "source": [
        "# Here we will print the sklearn tfidf vectorizer idf values after applying the fit method\n",
        "# After using the fit function on the corpus the vocab has 9 words in it, and each has its idf value.\n",
        "\n",
        "print(vectorizer.idf_)"
      ],
      "execution_count": null,
      "outputs": []
    },
    {
      "cell_type": "code",
      "metadata": {
        "id": "-CTiWHygxLjA"
      },
      "source": [
        "# shape of sklearn tfidf vectorizer output after applying transform method.\n",
        "\n",
        "skl_output.shape"
      ],
      "execution_count": null,
      "outputs": []
    },
    {
      "cell_type": "code",
      "metadata": {
        "id": "bDKEpbA-xLjD"
      },
      "source": [
        "# sklearn tfidf values for first line of the above corpus.\n",
        "# Here the output is a sparse matrix\n",
        "\n",
        "print(skl_output[0])"
      ],
      "execution_count": null,
      "outputs": []
    },
    {
      "cell_type": "code",
      "metadata": {
        "id": "3QWo34hexLjF"
      },
      "source": [
        "# sklearn tfidf values for first line of the above corpus.\n",
        "# To understand the output better, here we are converting the sparse output matrix to dense matrix and printing it.\n",
        "# Notice that this output is normalized using L2 normalization. sklearn does this by default.\n",
        "\n",
        "print(skl_output[0].toarray())"
      ],
      "execution_count": null,
      "outputs": []
    },
    {
      "cell_type": "markdown",
      "metadata": {
        "id": "qfIwx5LzxLjI"
      },
      "source": [
        "### Your custom implementation"
      ]
    },
    {
      "cell_type": "code",
      "metadata": {
        "id": "HjuCcJwXxLjJ"
      },
      "source": [
        "# Write your code here.\n",
        "# Make sure its well documented and readble with appropriate comments.\n",
        "# Compare your results with the above sklearn tfidf vectorizer\n",
        "# You are not supposed to use any other library apart from the ones given below\n",
        "\n",
        "from collections import Counter\n",
        "from tqdm import tqdm\n",
        "from scipy.sparse import csr_matrix\n",
        "import math\n",
        "import operator\n",
        "from sklearn.preprocessing import normalize\n",
        "import numpy"
      ],
      "execution_count": null,
      "outputs": []
    },
    {
      "cell_type": "markdown",
      "metadata": {
        "id": "MMxBmVZExLjK"
      },
      "source": [
        "## Task-2"
      ]
    },
    {
      "cell_type": "markdown",
      "metadata": {
        "id": "51j_OtqAxLjL"
      },
      "source": [
        "<font face='georgia'>\n",
        "    <h4><strong>2. Implement max features functionality:</strong></h4>\n",
        "\n",
        "<ul>\n",
        "    <li> As a part of this task you have to modify your fit and transform functions so that your vocab will contain only 50 terms with top idf scores.</li>\n",
        "    <br>\n",
        "    <li>This task is similar to your previous task, just that here your vocabulary is limited to only top 50 features names based on their idf values. Basically your output will have exactly 50 columns and the number of rows will depend on the number of documents you have in your corpus.</li>\n",
        "    <br>\n",
        "    <li>Here you will be give a pickle file, with file name <strong>cleaned_strings</strong>. You would have to load the corpus from this file and use it as input to your tfidf vectorizer.</li>\n",
        "    <br>\n",
        "    <li>Steps to approach this task:\n",
        "    <ol>\n",
        "        <li> You would have to write both fit and transform methods for your custom implementation of tfidf vectorizer, just like in the previous task. Additionally, here you have to limit the number of features generated to 50 as described above.</li>\n",
        "        <li> Now sort your vocab based in descending order of idf values and print out the words in the sorted voacb after you fit your data. Here you should be getting only 50 terms in your vocab. And make sure to print idf values for each term in your vocab. </li>\n",
        "        <li> Make sure the output of your implementation is a sparse matrix. Before generating the final output, you need to normalize your sparse matrix using L2 normalization. You can refer to this link https://scikit-learn.org/stable/modules/generated/sklearn.preprocessing.normalize.html </li>\n",
        "        <li> Now check the output of a single document in your collection of documents,  you can convert the sparse matrix related only to that document into dense matrix and print it. And this dense matrix should contain 1 row and 50 columns. </li>\n",
        "        </ol>\n",
        "    </li>\n",
        "    <br>\n",
        "   </ul>"
      ]
    },
    {
      "cell_type": "markdown",
      "source": [
        "# Mounting Google drive to Colab"
      ],
      "metadata": {
        "id": "mvB0GBF1hoa9"
      }
    },
    {
      "cell_type": "code",
      "source": [
        "from google.colab import drive\n",
        "drive.mount('/content/drive')\n",
        "%cd drive/MyDrive"
      ],
      "metadata": {
        "id": "J55b36rjhhjY",
        "colab": {
          "base_uri": "https://localhost:8080/"
        },
        "outputId": "2d4f8501-ca68-4ed7-e978-4cb781c50922"
      },
      "execution_count": 12,
      "outputs": [
        {
          "output_type": "stream",
          "name": "stdout",
          "text": [
            "Mounted at /content/drive\n",
            "/content/drive/MyDrive\n"
          ]
        }
      ]
    },
    {
      "cell_type": "code",
      "source": [
        "# from google.colab import files\n",
        "# import pandas as pd\n",
        "\n",
        "# files.upload()"
      ],
      "metadata": {
        "id": "BKiDcI8Yn6hX"
      },
      "execution_count": 13,
      "outputs": []
    },
    {
      "cell_type": "markdown",
      "source": [
        "# Load Data from google mydrive"
      ],
      "metadata": {
        "id": "uRJH5wgBhyAb"
      }
    },
    {
      "cell_type": "code",
      "metadata": {
        "id": "NHxPLlwNxLjL",
        "outputId": "a90faa21-73e4-4283-d412-dff04b777d80",
        "colab": {
          "base_uri": "https://localhost:8080/"
        }
      },
      "source": [
        "# # Below is the code to load the cleaned_strings pickle file provided\n",
        "# # Here corpus is of list type\n",
        "import pandas as pd\n",
        "data=pd.read_csv('AmazonFood.csv')\n",
        "\n",
        "print(data.shape)\n",
        "###############################################################################################\n",
        "# import pickle\n",
        "# with open('4btk_Graphs.txt', 'rb') as f:\n",
        "#     lines = [x.decode('utf8').strip() for x in f.readlines()]\n",
        "    \n",
        "# # printing the length of the corpus loaded\n",
        "# print(\"Number of documents in corpus = \",len(lines))\n",
        "# print(lines)\n",
        "\n"
      ],
      "execution_count": 14,
      "outputs": [
        {
          "output_type": "stream",
          "name": "stdout",
          "text": [
            "(34660, 21)\n"
          ]
        },
        {
          "output_type": "stream",
          "name": "stderr",
          "text": [
            "/usr/local/lib/python3.7/dist-packages/IPython/core/interactiveshell.py:3326: DtypeWarning: Columns (1,10) have mixed types.Specify dtype option on import or set low_memory=False.\n",
            "  exec(code_obj, self.user_global_ns, self.user_ns)\n"
          ]
        }
      ]
    },
    {
      "cell_type": "code",
      "metadata": {
        "id": "ZULfoOIdxLjQ"
      },
      "source": [
        "# Python program to generate word vectors using Word2Vec\n",
        " \n",
        "# importing all necessary modules\n",
        "from nltk.tokenize import sent_tokenize, word_tokenize\n",
        "import warnings\n",
        " \n",
        "warnings.filterwarnings(action = 'ignore')\n",
        " \n",
        "import gensim\n",
        "from gensim.models import Word2Vec\n",
        "# Write your code here.\n",
        "# Try not to hardcode any values.\n",
        "# Make sure its well documented and readble with appropriate comments."
      ],
      "execution_count": 15,
      "outputs": []
    },
    {
      "cell_type": "code",
      "metadata": {
        "id": "1_DJnnR3xLjR"
      },
      "source": [
        "Amazon_Reviews=data['reviews.text']\n",
        "#print(Amazon_Reviews)\n",
        "Amazon_Reviews_listFormat=[]\n",
        "i=0\n",
        "for text in Amazon_Reviews:\n",
        "  i=i+1\n",
        "  Amazon_Reviews_listFormat.append(text)\n",
        "  if i==100:\n",
        "    break"
      ],
      "execution_count": 16,
      "outputs": []
    },
    {
      "cell_type": "code",
      "source": [
        "from sklearn.feature_extraction.text import TfidfVectorizer\n",
        "vectorizer = TfidfVectorizer()\n",
        "vectorizer.fit(Amazon_Reviews_listFormat)\n",
        "skl_output = vectorizer.transform(Amazon_Reviews_listFormat)\n",
        "#print(skl_output)\n",
        "#print(vectorizer.get_feature_names())\n",
        "# print(len(vectorizer.idf_))\n",
        "# print(skl_output.shape)\n",
        "# print(skl_output[0])"
      ],
      "metadata": {
        "id": "EwLfLvfKcBsd"
      },
      "execution_count": 17,
      "outputs": []
    },
    {
      "cell_type": "markdown",
      "source": [
        "# Lemmatization"
      ],
      "metadata": {
        "id": "tkqLLjRCoJsg"
      }
    },
    {
      "cell_type": "code",
      "source": [
        "pip install --user -U nltk"
      ],
      "metadata": {
        "colab": {
          "base_uri": "https://localhost:8080/"
        },
        "id": "jhy6_IWhqXEa",
        "outputId": "cfd00172-10ef-4898-a744-60770dc5f385"
      },
      "execution_count": 18,
      "outputs": [
        {
          "output_type": "stream",
          "name": "stdout",
          "text": [
            "Looking in indexes: https://pypi.org/simple, https://us-python.pkg.dev/colab-wheels/public/simple/\n",
            "Requirement already satisfied: nltk in /usr/local/lib/python3.7/dist-packages (3.7)\n",
            "Requirement already satisfied: joblib in /usr/local/lib/python3.7/dist-packages (from nltk) (1.2.0)\n",
            "Requirement already satisfied: click in /usr/local/lib/python3.7/dist-packages (from nltk) (7.1.2)\n",
            "Requirement already satisfied: tqdm in /usr/local/lib/python3.7/dist-packages (from nltk) (4.64.1)\n",
            "Requirement already satisfied: regex>=2021.8.3 in /usr/local/lib/python3.7/dist-packages (from nltk) (2022.6.2)\n"
          ]
        }
      ]
    },
    {
      "cell_type": "code",
      "source": [
        "import nltk\n",
        "nltk.download('punkt')\n",
        "nltk.download('wordnet')\n",
        "nltk.download('omw-1.4')"
      ],
      "metadata": {
        "colab": {
          "base_uri": "https://localhost:8080/"
        },
        "id": "owougFGEtv_6",
        "outputId": "5716b372-1c0b-4ad1-d124-c0ca04184bfd"
      },
      "execution_count": 19,
      "outputs": [
        {
          "output_type": "stream",
          "name": "stderr",
          "text": [
            "[nltk_data] Downloading package punkt to /root/nltk_data...\n",
            "[nltk_data]   Unzipping tokenizers/punkt.zip.\n",
            "[nltk_data] Downloading package wordnet to /root/nltk_data...\n",
            "[nltk_data] Downloading package omw-1.4 to /root/nltk_data...\n"
          ]
        },
        {
          "output_type": "execute_result",
          "data": {
            "text/plain": [
              "True"
            ]
          },
          "metadata": {},
          "execution_count": 19
        }
      ]
    },
    {
      "cell_type": "code",
      "source": [
        "from nltk.stem import WordNetLemmatizer\n",
        "lemmatizer=WordNetLemmatizer()\n",
        "AfterLemmatization=[]\n",
        "Amazon_Reviews_tokenFormat=[]\n",
        "for text in Amazon_Reviews_listFormat:\n",
        "  word_list = nltk.word_tokenize(text)\n",
        "  Amazon_Reviews_tokenFormat.append(word_list)\n",
        "  lemmatized_output = ' '.join([lemmatizer.lemmatize(w) for w in word_list])\n",
        "  AfterLemmatization.append(lemmatized_output)\n",
        "\n",
        "print(AfterLemmatization)\n",
        "print(Amazon_Reviews_tokenFormat)\n"
      ],
      "metadata": {
        "colab": {
          "base_uri": "https://localhost:8080/"
        },
        "id": "4FPu1hunoOiA",
        "outputId": "b865477b-977f-4860-879c-31cf9cd6bdde"
      },
      "execution_count": 80,
      "outputs": [
        {
          "output_type": "stream",
          "name": "stdout",
          "text": [
            "['This product so far ha not disappointed . My child love to use it and I like the ability to monitor control what content they see with ease .', 'great for beginner or experienced person . Bought a a gift and she love it', 'Inexpensive tablet for him to use and learn on , step up from the NABI . He wa thrilled with it , learn how to Skype on it already ...', \"I 've had my Fire HD 8 two week now and I love it . This tablet is a great value.We are Prime Members and that is where this tablet SHINES . I love being able to easily access all of the Prime content a well a movie you can download and watch laterThis ha a 1280/800 screen which ha some really nice look to it it nice and crisp and very bright infact it is brighter then the ipad pro costing $ 900 base model . The build on this fire is INSANELY AWESOME running at only 7.7mm thick and the smooth glossy feel on the back it is really amazing to hold it like the futuristic tab in ur hand .\", 'I bought this for my grand daughter when she come over to visit . I set it up with her a the user , entered her age and name and now Amazon make sure that she only access site and content that are appropriate to her age . Simple to do and she love the capability . I also bought and installed a 64gig SD card which give this little tablet plenty of storage . For the price I think this tablet is best one out there . You can spend hundred of dollar more for additional speed and capacity but when it come to the basic this tablet doe everything that most people will ever need at a fraction of the cost .', 'This amazon fire 8 inch tablet is the perfect size . I purchased it for my husband so that he ha a bigger screen than just his phone . He had gotten me one a few year ago so I knew it would be a good purchase .', 'Great for e-reading on the go , nice and light weight , and for the price point given , definitely worth the purchase .', 'I gave this a a Christmas gift to my inlaws , husband and uncle . They loved it and how easy they are to use with fantastic feature !', 'Great a a device to read book . I like that it link with my borrowed library e-books . Switched from another popular tablet brand and I am happy with the choice I made . It took some time to get book from my previous non-Kindle reader , but finally figured out a way !', 'I love ordering book and reading them with the reader .', 'Not easy for elderly user cease of ad that pop up .', 'Excellent product . Easy to use , large screen make watching movie and reading easier .', 'Wanted my father to have his first tablet and this is a very good value . He can watch movie and play a few game . Easy enough for him to use .', 'Simply doe everything I need . Thank youAnd silk work wonder', 'Got it a a present and love the size of the screen', 'The kindle is easiest to use , graphic and screen crisp , clear , brilliant color .', 'nice reader . almost perfect for what i want/need . good bargain', 'I really like this tablet . I would have given 5 star but sometimes you have to push start several time after you unlock the screen and it is a little annoying .', 'Great video quality lot of fun apps fun for the whole family', 'Love love love my kindle fire 8 ..... this is what my 9 yr old granddaughter said when I bought this for her at Christmas .. we have purchased kindled in the past but this one ha been the best .... love the fact that you can now use a memory card in it ... that help so much when you use it for book ... game ... music and viedos ... thanks', 'Excellent tablet with nice screen . I wish Amazon would pre install the play store , this would have been perfect .', 'Preloaded with the reading app from Kindle but expandable with other apps . Perfect for travel . Carry your library , game and productivity apps in a small footprint .', 'Very happy with this product and easy to use .. picture is clear , take great picture ..', \"My grandchild are home schooled and utilize the table for many learning apps ! They LOVE using them a it make them feel `` so grown up '' ! The tablet are a great leaning tool and they are receiving many benefit from them !\", 'Great size , easy to carry for traveling . Need to spend more time Looking into apps for contact manegement , interactive calender and most important , music storage and use .', 'I purchased this when my last tablet died . It meet all basic need and the price wa great .', 'Perfect for downloading and reading book ! ! Perfect size and ha a nice , bright screen .', \"I wa surprised when I learned of the capability of this device . Now my husband ha more access to his desktop and I am doing thing which I could n't on his device .\", 'I got it for my son . Its user friendly and durable .', 'The visual quality on the Fire 8 HD is amazing . It run very fast and is easy to use , very durable .', 'If your looking for a affordable gift this is it ! .', 'This is a great tablet for the price , would recommend it to anyone looking for a basic tablet .', 'Works great . Love the portability of book . Overall great product', 'I am still learning all the thing I can do with my new Kindle Fire . It is so much better ( lighter in weight and easier to use ) than my old tablet .', 'Just the right size for reading book and playing some game .', \"I love everything about this tablet ! The imaging is sharp and clear . It 's fast and light weight . Love it !\", 'Overall a nice product for traveling purpose Value for money', 'My child love this table great quality of picture , excellent camera', 'I bought 3 tablet and my family wa not disappointed .', 'Great tablet fast screen good size never give me problem', 'Bought this for my 87 year old grandmother who wanted to be able to play game and read book from the library . My aunt life with her and can help her use it so it perfect for that type of user . After playing with It , I would consider it for just about anyone other than a hardcore user that want the latest and greatest tech . if you are tech saavy , you can do more with these Fire tablet than advertised .', 'This is exactly what the person wanted a a gift and she enjoys using it .', 'Does all basic function of a tablet . Hardcore user may want an iPad .', 'Works great for a simple tablet . Not a huge fan of the silk browser but it could be worse ! I am very happy with my purchase !', \"It 's fast and easy to use . This is my second kindle fire .\", 'More flexibility than a Kindle and bigger screen . Like it because I can surf the web and download and read book .', 'For the money you can not beat this tablet . Full of feature , picture quality is great , and very fast speed while using the internet .', 'Easy to use , solid build , sharp HP screen for movie . Who need more ?', 'Tablet is perfect for beginner who just want basic', 'this is my first tablet .. love it .. actually read my first e-book on it .. large screen , easy to read & play game .. fit nicely in my purse', 'This 8 inch Fire is definitely better than the cheaper 7 inch . It work fine enough for teen to play game and watch movie .', 'Great tablet for under $ 100 . Does not have the highest spec , but get the job done for lite tablet user .', 'I purchased the kindle fire because I needed a entertainment only device for long flight . This device is the perfect size for travel and easy to use and set up with your Amazon account . It is worth purchasing a Fire tablet if you are an Amazon Prime member . If not , I would not recommend it because the available apps are limited . My only complaint about this device is that if it freeze it is difficult to reset .', 'This fire tablet ha long battery life . Reasonable fast', 'Got this for my wife and she love it . She had the previous generation and this one is a giant keep forward .', 'Sleek packaging easy set up and great for anyone who want a e reader with more to offer .', 'Best and most affordable option of all the Kindle device available .', 'I did not want to get a new kindle but my old one would not charge or show a charge anymore . I could not depend on it for any length of time so I finally broke down and bought a new one . I am very happy with this one . I wa afraid I would lose my music and photo since not all came from the Amazon store . However , everything I had on the old kindle transferred to the new one . I am still learning all about it but so far so good .', 'My daughter like this tablet to play her online game !', 'Easy to figure out and used it extensively on my vacation .', \"Excellent tablet to leave at my easel and display reference photo . It 's light enough to velcro to a articulating stand ( so I can position the tablet right next to my canvas ) . It 's cheap enough to not worry about . I love it , for the price .\", 'I bought this wanting for book comic and movie and it ha not disappoint ever since', 'My 4 year old Grandson love his Kindle . He had to have one after his sister got one .', 'Easy to use . As a beginner I found this pad very good . Enjoy the kindle app .', 'This Kindle doe what I need it to do . The camera could be better but overall I am pretty happy with my purchase .', 'Purchased this for my daughter to do more reading . It ha so much more option for her if she want .', 'this is a great tablet for the price . my kid love it , doe alot reading on it .', \"I wa really hoping that this would be faster than some other inexspensive tablet I 've had . I mainly use it for email though and it doe the job .\", \"Bought a a Christmas gift for someone . I bought iPad a well . Will update when it 's used .\", 'Great tablet for the price . It is easy to navigate .', 'I believe that this will be very useful during my husband recovery from foot surgery .', 'This is something that is useful if your looking for something to take along trip', 'This is a wonderful device . I love the extra capability and apps .', 'Decent tablet . Access to kindle and pretty much all your google apps .', 'I am very happy with this tablet . The worst thing is that my steal it all the time . Lol', 'A family member ha vision problem . They had seen/used the Kindle of another family member - especially the ability to scale text . This device will make it possible to read , which she ha had extreme difficulty doing .', 'Easy setup and connect to WIFI . Great viewing area . Easy to read in bright place .', 'I got this fire for my friend who want to buy kindle .. this serf both Kindle and Tab ... very nice and very cheap .. worth for what i paid .. I highly recommend this for beginner', 'Really enjoyed the price value of this tablet versus ipad', 'Amazing tablet with fast processor . It look great ... got good deal', 'We got this for our 5 year old and this is really great for the price . Works like a charm ! !', 'I find it easy to use , but the kindle doe not come with instruction , so you have to find your way around .', \"I bought this because I wa tired of watching Youtube and Twitch on my phone . Excellent display sound is decent-not great but you can always buy a speaker . The negative are-it is definitely a fingerprint magnet , and the Spectrum TV app is AWFUL-the app work fine on my phone , but for some reason on this tablet it freeze and is unusable . All thing considered , for 65 buck it 's hard to be beat .\", \"I love this tablet . The battery life last a long time . I use my Amazon Kindle Fire predominately for watching movie on Amazon Prime , Netflix 's , and checking my email . I also carry it to my appointment and meeting . It is a compact tablet , and not big and bulky . The playback of the movie are great , and the movie are HD . Great little tablet if you are looking for something to watch movie and checking email . I would definitely recommend this tablet to friend and family member .\", 'My daughter love this kindle , she doe so much with it , well worth the money .', 'Was looking for a tablet that wa highly portable & could run my DIRECTTV app & stream video . ( Other electronics I have are much older version ) . Salesman recommended this model to me based on personal experience . I am still learning all it function but so far it seems easy to use & is doing what it promised to do .', 'This is my second Fire , the other one is now retired . I like having HD . Works just fine .', \"My wife bought this for me for my birthday . I enjoy reading biography which usually have color photo . The regular Kindle make the pic black and white or they 're are n't any . This allows me to see the color photo . I also love the night feature when I 'm in bed reading . I no longer need a light on to read or need to hold a large book .\", 'Thanks to a knowledgeable , low-pressure salesperson , I wa ready to buy my first tablet . This one wa the right price ( on sale ) and I have not been disappointed . Every few day I learn more way to use it besides checking e-mail & checking out library book & audio book . It stay charged for day , even with regular use . I recommend it a an inexpensive and very satisfactory alternative to more expensive tablet .', \"It 's a great tablet for the price . Do n't expect it to be a fast more expensive one . It 's meant for casual use and it doe a great job at that . For the price , you ca n't beat it . Get a nice large microsd card and you do n't have to worry about space . It run a little slow on certain thing if you are multitasking but it 's a simple tablet . I 've run plenty of 720p video without fail . It 's great for ebooks or other file . Some more elaborate pdfs take a while to load if they have a lol of graphic . Battery life seems good for a small table too.The only real Issue I have is the Amazon App store being limited . It is an offshoot of Android but not all the same apps are available . There is a way around it but I wish they would just allow it access to Google Play or at least offer the same apps.So , it 's a nice inexpensive table that work great . For the money , you will love it but do n't get upset that is doe n't run a fast a a $ 500 tablet . That 's not it job .\", 'Bought it for my 10 yr old granddaughter . Does everything she want it to do in a tablet .', 'Very easy to use tablet . Lots of apps and game available .', \"We love the FreeTime setting for kid on the newer Kindle Fires . I wa able to create a login for each of our kid a well a myself and set limit to the amount of device time they are allowed daily ( can set to more for weekend if desired ) . You can set the age restriction for content also , to avoid inappropriate ad , etc . Once you 've downloaded apps , you can choose which one you want each child to have access to in their profile setting , so if one child is older you can allow them access to something their younger sibling should n't have . Basically , I like that I can set their access right and know they 're safe so I do n't have to continually monitor every moment . By the way , FreeTime kid setting are available without having to subscribe to their FreeTime app access plan . : )\", 'Great tablet , very clear picture . Would buy again .', 'Good reader which is why I bought it . Ads are annoying .', \"It 's a mini computer packed in a handheld devise . Applications load quickly and I am able to get my work completed , while riding the commuter rail .\", \"Nice for a smaller tablet . It 's good for Internet surfing .\", 'Purchased a a door prize gift given with a one year Amazon membership . The recipient love it and say it performs very well . ( As a past Amazon Fire user , now i-Pad graduate , I loved my Amazon Fire for more than 4 year without any problem . In fact , I just recycled it on to my son and it run like a champ ) .', 'I have 4 other kind of table . This the best I have had . I can listen to music , read a book , listen to a book , or watch movies/tv show .', 'Great product for the kid gaming apps parental control to make sure you can monitor kid and prevent unwanted app purchase']\n",
            "[['This', 'product', 'so', 'far', 'has', 'not', 'disappointed', '.', 'My', 'children', 'love', 'to', 'use', 'it', 'and', 'I', 'like', 'the', 'ability', 'to', 'monitor', 'control', 'what', 'content', 'they', 'see', 'with', 'ease', '.'], ['great', 'for', 'beginner', 'or', 'experienced', 'person', '.', 'Bought', 'as', 'a', 'gift', 'and', 'she', 'loves', 'it'], ['Inexpensive', 'tablet', 'for', 'him', 'to', 'use', 'and', 'learn', 'on', ',', 'step', 'up', 'from', 'the', 'NABI', '.', 'He', 'was', 'thrilled', 'with', 'it', ',', 'learn', 'how', 'to', 'Skype', 'on', 'it', 'already', '...'], ['I', \"'ve\", 'had', 'my', 'Fire', 'HD', '8', 'two', 'weeks', 'now', 'and', 'I', 'love', 'it', '.', 'This', 'tablet', 'is', 'a', 'great', 'value.We', 'are', 'Prime', 'Members', 'and', 'that', 'is', 'where', 'this', 'tablet', 'SHINES', '.', 'I', 'love', 'being', 'able', 'to', 'easily', 'access', 'all', 'of', 'the', 'Prime', 'content', 'as', 'well', 'as', 'movies', 'you', 'can', 'download', 'and', 'watch', 'laterThis', 'has', 'a', '1280/800', 'screen', 'which', 'has', 'some', 'really', 'nice', 'look', 'to', 'it', 'its', 'nice', 'and', 'crisp', 'and', 'very', 'bright', 'infact', 'it', 'is', 'brighter', 'then', 'the', 'ipad', 'pro', 'costing', '$', '900', 'base', 'model', '.', 'The', 'build', 'on', 'this', 'fire', 'is', 'INSANELY', 'AWESOME', 'running', 'at', 'only', '7.7mm', 'thick', 'and', 'the', 'smooth', 'glossy', 'feel', 'on', 'the', 'back', 'it', 'is', 'really', 'amazing', 'to', 'hold', 'its', 'like', 'the', 'futuristic', 'tab', 'in', 'ur', 'hands', '.'], ['I', 'bought', 'this', 'for', 'my', 'grand', 'daughter', 'when', 'she', 'comes', 'over', 'to', 'visit', '.', 'I', 'set', 'it', 'up', 'with', 'her', 'as', 'the', 'user', ',', 'entered', 'her', 'age', 'and', 'name', 'and', 'now', 'Amazon', 'makes', 'sure', 'that', 'she', 'only', 'accesses', 'sites', 'and', 'content', 'that', 'are', 'appropriate', 'to', 'her', 'age', '.', 'Simple', 'to', 'do', 'and', 'she', 'loves', 'the', 'capabilities', '.', 'I', 'also', 'bought', 'and', 'installed', 'a', '64gig', 'SD', 'card', 'which', 'gives', 'this', 'little', 'tablet', 'plenty', 'of', 'storage', '.', 'For', 'the', 'price', 'I', 'think', 'this', 'tablet', 'is', 'best', 'one', 'out', 'there', '.', 'You', 'can', 'spend', 'hundreds', 'of', 'dollars', 'more', 'for', 'additional', 'speed', 'and', 'capacity', 'but', 'when', 'it', 'comes', 'to', 'the', 'basics', 'this', 'tablets', 'does', 'everything', 'that', 'most', 'people', 'will', 'ever', 'need', 'at', 'a', 'fraction', 'of', 'the', 'cost', '.'], ['This', 'amazon', 'fire', '8', 'inch', 'tablet', 'is', 'the', 'perfect', 'size', '.', 'I', 'purchased', 'it', 'for', 'my', 'husband', 'so', 'that', 'he', 'has', 'a', 'bigger', 'screen', 'than', 'just', 'his', 'phone', '.', 'He', 'had', 'gotten', 'me', 'one', 'a', 'few', 'years', 'ago', 'so', 'I', 'knew', 'it', 'would', 'be', 'a', 'good', 'purchase', '.'], ['Great', 'for', 'e-reading', 'on', 'the', 'go', ',', 'nice', 'and', 'light', 'weight', ',', 'and', 'for', 'the', 'price', 'point', 'given', ',', 'definitely', 'worth', 'the', 'purchase', '.'], ['I', 'gave', 'this', 'as', 'a', 'Christmas', 'gift', 'to', 'my', 'inlaws', ',', 'husband', 'and', 'uncle', '.', 'They', 'loved', 'it', 'and', 'how', 'easy', 'they', 'are', 'to', 'use', 'with', 'fantastic', 'features', '!'], ['Great', 'as', 'a', 'device', 'to', 'read', 'books', '.', 'I', 'like', 'that', 'it', 'links', 'with', 'my', 'borrowed', 'library', 'e-books', '.', 'Switched', 'from', 'another', 'popular', 'tablet', 'brand', 'and', 'I', 'am', 'happy', 'with', 'the', 'choice', 'I', 'made', '.', 'It', 'took', 'some', 'time', 'to', 'get', 'books', 'from', 'my', 'previous', 'non-Kindle', 'reader', ',', 'but', 'finally', 'figured', 'out', 'a', 'way', '!'], ['I', 'love', 'ordering', 'books', 'and', 'reading', 'them', 'with', 'the', 'reader', '.'], ['Not', 'easy', 'for', 'elderly', 'users', 'cease', 'of', 'ads', 'that', 'pop', 'up', '.'], ['Excellent', 'product', '.', 'Easy', 'to', 'use', ',', 'large', 'screen', 'makes', 'watching', 'movies', 'and', 'reading', 'easier', '.'], ['Wanted', 'my', 'father', 'to', 'have', 'his', 'first', 'tablet', 'and', 'this', 'is', 'a', 'very', 'good', 'value', '.', 'He', 'can', 'watch', 'movies', 'and', 'play', 'a', 'few', 'games', '.', 'Easy', 'enough', 'for', 'him', 'to', 'use', '.'], ['Simply', 'does', 'everything', 'I', 'need', '.', 'Thank', 'youAnd', 'silk', 'works', 'wonders'], ['Got', 'it', 'as', 'a', 'present', 'and', 'love', 'the', 'size', 'of', 'the', 'screen'], ['The', 'kindle', 'is', 'easiest', 'to', 'use', ',', 'graphics', 'and', 'screen', 'crisp', ',', 'clear', ',', 'brilliant', 'colors', '.'], ['nice', 'reader', '.', 'almost', 'perfect', 'for', 'what', 'i', 'want/need', '.', 'good', 'bargain'], ['I', 'really', 'like', 'this', 'tablet', '.', 'I', 'would', 'have', 'given', '5', 'stars', 'but', 'sometimes', 'you', 'have', 'to', 'push', 'start', 'several', 'times', 'after', 'you', 'unlock', 'the', 'screen', 'and', 'it', 'is', 'a', 'little', 'annoying', '.'], ['Great', 'video', 'quality', 'lots', 'of', 'fun', 'apps', 'fun', 'for', 'the', 'whole', 'family'], ['Love', 'love', 'love', 'my', 'kindle', 'fire', '8', '.....', 'this', 'is', 'what', 'my', '9', 'yr', 'old', 'granddaughter', 'said', 'when', 'I', 'bought', 'this', 'for', 'her', 'at', 'Christmas', '..', 'we', 'have', 'purchased', 'kindled', 'in', 'the', 'past', 'but', 'this', 'one', 'has', 'been', 'the', 'best', '....', 'love', 'the', 'fact', 'that', 'you', 'can', 'now', 'use', 'a', 'memory', 'card', 'in', 'it', '...', 'that', 'helps', 'so', 'much', 'when', 'you', 'use', 'it', 'for', 'books', '...', 'games', '...', 'music', 'and', 'viedos', '...', 'thanks'], ['Excellent', 'tablet', 'with', 'nice', 'screen', '.', 'I', 'wish', 'Amazon', 'would', 'pre', 'install', 'the', 'play', 'store', ',', 'this', 'would', 'have', 'been', 'perfect', '.'], ['Preloaded', 'with', 'the', 'reading', 'app', 'from', 'Kindle', 'but', 'expandable', 'with', 'other', 'apps', '.', 'Perfect', 'for', 'travel', '.', 'Carry', 'your', 'library', ',', 'games', 'and', 'productivity', 'apps', 'in', 'a', 'small', 'footprint', '.'], ['Very', 'happy', 'with', 'this', 'product', 'and', 'easy', 'to', 'use', '..', 'picture', 'is', 'clear', ',', 'takes', 'great', 'pictures', '..'], ['My', 'grandchildren', 'are', 'home', 'schooled', 'and', 'utilize', 'the', 'tables', 'for', 'many', 'learning', 'apps', '!', 'They', 'LOVE', 'using', 'them', 'as', 'it', 'makes', 'them', 'feel', '``', 'so', 'grown', 'up', \"''\", '!', 'The', 'tablets', 'are', 'a', 'great', 'leaning', 'tool', 'and', 'they', 'are', 'receiving', 'many', 'benefits', 'from', 'them', '!'], ['Great', 'size', ',', 'easy', 'to', 'carry', 'for', 'traveling', '.', 'Need', 'to', 'spend', 'more', 'time', 'Looking', 'into', 'apps', 'for', 'contact', 'manegement', ',', 'interactive', 'calenders', 'and', 'most', 'important', ',', 'music', 'storage', 'and', 'use', '.'], ['I', 'purchased', 'this', 'when', 'my', 'last', 'tablet', 'died', '.', 'It', 'meets', 'all', 'basic', 'needs', 'and', 'the', 'price', 'was', 'great', '.'], ['Perfect', 'for', 'downloading', 'and', 'reading', 'books', '!', '!', 'Perfect', 'size', 'and', 'has', 'a', 'nice', ',', 'bright', 'screen', '.'], ['I', 'was', 'surprised', 'when', 'I', 'learned', 'of', 'the', 'capabilities', 'of', 'this', 'device', '.', 'Now', 'my', 'husband', 'has', 'more', 'access', 'to', 'his', 'desktop', 'and', 'I', 'am', 'doing', 'things', 'which', 'I', 'could', \"n't\", 'on', 'his', 'device', '.'], ['I', 'got', 'it', 'for', 'my', 'son', '.', 'Its', 'user', 'friendly', 'and', 'durable', '.'], ['The', 'visual', 'quality', 'on', 'the', 'Fire', '8', 'HD', 'is', 'amazing', '.', 'It', 'runs', 'very', 'fast', 'and', 'is', 'easy', 'to', 'use', ',', 'very', 'durable', '.'], ['If', 'your', 'looking', 'for', 'a', 'affordable', 'gift', 'this', 'is', 'it', '!', '.'], ['This', 'is', 'a', 'great', 'tablet', 'for', 'the', 'price', ',', 'would', 'recommend', 'it', 'to', 'anyone', 'looking', 'for', 'a', 'basic', 'tablet', '.'], ['Works', 'great', '.', 'Love', 'the', 'portability', 'of', 'books', '.', 'Overall', 'great', 'product'], ['I', 'am', 'still', 'learning', 'all', 'the', 'things', 'I', 'can', 'do', 'with', 'my', 'new', 'Kindle', 'Fire', '.', 'It', 'is', 'so', 'much', 'better', '(', 'lighter', 'in', 'weight', 'and', 'easier', 'to', 'use', ')', 'than', 'my', 'old', 'tablet', '.'], ['Just', 'the', 'right', 'size', 'for', 'reading', 'books', 'and', 'playing', 'some', 'games', '.'], ['I', 'love', 'everything', 'about', 'this', 'tablet', '!', 'The', 'imaging', 'is', 'sharp', 'and', 'clear', '.', 'It', \"'s\", 'fast', 'and', 'light', 'weight', '.', 'Love', 'it', '!'], ['Overall', 'a', 'nice', 'product', 'for', 'traveling', 'purposes', 'Value', 'for', 'money'], ['My', 'children', 'love', 'this', 'table', 'great', 'quality', 'of', 'pictures', ',', 'excellent', 'camera'], ['I', 'bought', '3', 'tablets', 'and', 'my', 'family', 'was', 'not', 'disappointed', '.'], ['Great', 'tablet', 'fast', 'screen', 'good', 'size', 'never', 'gives', 'me', 'problem'], ['Bought', 'this', 'for', 'my', '87', 'year', 'old', 'grandmother', 'who', 'wanted', 'to', 'be', 'able', 'to', 'play', 'games', 'and', 'read', 'books', 'from', 'the', 'library', '.', 'My', 'aunt', 'lives', 'with', 'her', 'and', 'can', 'help', 'her', 'use', 'it', 'so', 'its', 'perfect', 'for', 'that', 'type', 'of', 'user', '.', 'After', 'playing', 'with', 'It', ',', 'I', 'would', 'consider', 'it', 'for', 'just', 'about', 'anyone', 'other', 'than', 'a', 'hardcore', 'user', 'that', 'wants', 'the', 'latest', 'and', 'greatest', 'tech', '.', 'if', 'you', 'are', 'tech', 'saavy', ',', 'you', 'can', 'do', 'more', 'with', 'these', 'Fire', 'tablets', 'than', 'advertised', '.'], ['This', 'is', 'exactly', 'what', 'the', 'person', 'wanted', 'as', 'a', 'gift', 'and', 'she', 'enjoys', 'using', 'it', '.'], ['Does', 'all', 'basic', 'functions', 'of', 'a', 'tablet', '.', 'Hardcore', 'users', 'may', 'want', 'an', 'iPad', '.'], ['Works', 'great', 'for', 'a', 'simple', 'tablet', '.', 'Not', 'a', 'huge', 'fan', 'of', 'the', 'silk', 'browser', 'but', 'it', 'could', 'be', 'worse', '!', 'I', 'am', 'very', 'happy', 'with', 'my', 'purchase', '!'], ['It', \"'s\", 'fast', 'and', 'easy', 'to', 'use', '.', 'This', 'is', 'my', 'second', 'kindle', 'fire', '.'], ['More', 'flexibility', 'than', 'a', 'Kindle', 'and', 'bigger', 'screen', '.', 'Like', 'it', 'because', 'I', 'can', 'surf', 'the', 'web', 'and', 'download', 'and', 'read', 'books', '.'], ['For', 'the', 'money', 'you', 'can', 'not', 'beat', 'this', 'tablet', '.', 'Full', 'of', 'features', ',', 'picture', 'quality', 'is', 'great', ',', 'and', 'very', 'fast', 'speed', 'while', 'using', 'the', 'internet', '.'], ['Easy', 'to', 'use', ',', 'solid', 'build', ',', 'sharp', 'HP', 'screen', 'for', 'movies', '.', 'Who', 'needs', 'more', '?'], ['Tablet', 'is', 'perfect', 'for', 'beginners', 'who', 'just', 'want', 'basic'], ['this', 'is', 'my', 'first', 'tablet', '..', 'love', 'it', '..', 'actually', 'read', 'my', 'first', 'e-book', 'on', 'it', '..', 'large', 'screen', ',', 'easy', 'to', 'read', '&', 'play', 'games', '..', 'fits', 'nicely', 'in', 'my', 'purse'], ['This', '8', 'inch', 'Fire', 'is', 'definitely', 'better', 'than', 'the', 'cheaper', '7', 'inch', '.', 'It', 'works', 'fine', 'enough', 'for', 'teens', 'to', 'play', 'games', 'and', 'watch', 'movies', '.'], ['Great', 'tablet', 'for', 'under', '$', '100', '.', 'Does', 'not', 'have', 'the', 'highest', 'specs', ',', 'but', 'gets', 'the', 'job', 'done', 'for', 'lite', 'tablet', 'users', '.'], ['I', 'purchased', 'the', 'kindle', 'fire', 'because', 'I', 'needed', 'a', 'entertainment', 'only', 'device', 'for', 'long', 'flights', '.', 'This', 'device', 'is', 'the', 'perfect', 'size', 'for', 'travel', 'and', 'easy', 'to', 'use', 'and', 'set', 'up', 'with', 'your', 'Amazon', 'account', '.', 'It', 'is', 'worth', 'purchasing', 'a', 'Fire', 'tablet', 'if', 'you', 'are', 'an', 'Amazon', 'Prime', 'member', '.', 'If', 'not', ',', 'I', 'would', 'not', 'recommend', 'it', 'because', 'the', 'available', 'apps', 'are', 'limited', '.', 'My', 'only', 'complaint', 'about', 'this', 'device', 'is', 'that', 'if', 'it', 'freezes', 'it', 'is', 'difficult', 'to', 'reset', '.'], ['This', 'fire', 'tablet', 'has', 'long', 'battery', 'life', '.', 'Reasonable', 'fast'], ['Got', 'this', 'for', 'my', 'wife', 'and', 'she', 'loves', 'it', '.', 'She', 'had', 'the', 'previous', 'generation', 'and', 'this', 'one', 'is', 'a', 'giant', 'keep', 'forward', '.'], ['Sleek', 'packaging', 'easy', 'set', 'up', 'and', 'great', 'for', 'anyone', 'who', 'wants', 'a', 'e', 'reader', 'with', 'more', 'to', 'offer', '.'], ['Best', 'and', 'most', 'affordable', 'option', 'of', 'all', 'the', 'Kindle', 'devices', 'available', '.'], ['I', 'did', 'not', 'want', 'to', 'get', 'a', 'new', 'kindle', 'but', 'my', 'old', 'one', 'would', 'not', 'charge', 'or', 'show', 'a', 'charge', 'anymore', '.', 'I', 'could', 'not', 'depend', 'on', 'it', 'for', 'any', 'length', 'of', 'time', 'so', 'I', 'finally', 'broke', 'down', 'and', 'bought', 'a', 'new', 'one', '.', 'I', 'am', 'very', 'happy', 'with', 'this', 'one', '.', 'I', 'was', 'afraid', 'I', 'would', 'lose', 'my', 'music', 'and', 'photos', 'since', 'not', 'all', 'came', 'from', 'the', 'Amazon', 'store', '.', 'However', ',', 'everything', 'I', 'had', 'on', 'the', 'old', 'kindle', 'transferred', 'to', 'the', 'new', 'one', '.', 'I', 'am', 'still', 'learning', 'all', 'about', 'it', 'but', 'so', 'far', 'so', 'good', '.'], ['My', 'daughter', 'likes', 'this', 'tablet', 'to', 'play', 'her', 'online', 'games', '!'], ['Easy', 'to', 'figure', 'out', 'and', 'used', 'it', 'extensively', 'on', 'my', 'vacation', '.'], ['Excellent', 'tablet', 'to', 'leave', 'at', 'my', 'easel', 'and', 'display', 'reference', 'photos', '.', 'It', \"'s\", 'light', 'enough', 'to', 'velcro', 'to', 'a', 'articulating', 'stand', '(', 'so', 'I', 'can', 'position', 'the', 'tablet', 'right', 'next', 'to', 'my', 'canvas', ')', '.', 'It', \"'s\", 'cheap', 'enough', 'to', 'not', 'worry', 'about', '.', 'I', 'love', 'it', ',', 'for', 'the', 'price', '.'], ['I', 'bought', 'this', 'wanting', 'for', 'books', 'comics', 'and', 'movies', 'and', 'it', 'has', 'not', 'disappoint', 'ever', 'since'], ['My', '4', 'year', 'old', 'Grandson', 'loves', 'his', 'Kindle', '.', 'He', 'had', 'to', 'have', 'one', 'after', 'his', 'sister', 'got', 'one', '.'], ['Easy', 'to', 'use', '.', 'As', 'a', 'beginner', 'I', 'found', 'this', 'pad', 'very', 'good', '.', 'Enjoy', 'the', 'kindle', 'app', '.'], ['This', 'Kindle', 'does', 'what', 'I', 'need', 'it', 'to', 'do', '.', 'The', 'camera', 'could', 'be', 'better', 'but', 'overall', 'I', 'am', 'pretty', 'happy', 'with', 'my', 'purchase', '.'], ['Purchased', 'this', 'for', 'my', 'daughter', 'to', 'do', 'more', 'reading', '.', 'It', 'has', 'so', 'much', 'more', 'options', 'for', 'her', 'if', 'she', 'wants', '.'], ['this', 'is', 'a', 'great', 'tablet', 'for', 'the', 'price', '.', 'my', 'kid', 'loves', 'it', ',', 'does', 'alot', 'reading', 'on', 'it', '.'], ['I', 'was', 'really', 'hoping', 'that', 'this', 'would', 'be', 'faster', 'than', 'some', 'other', 'inexspensive', 'tablets', 'I', \"'ve\", 'had', '.', 'I', 'mainly', 'use', 'it', 'for', 'email', 'though', 'and', 'it', 'does', 'the', 'job', '.'], ['Bought', 'as', 'a', 'Christmas', 'gift', 'for', 'someone', '.', 'I', 'bought', 'iPad', 'as', 'well', '.', 'Will', 'update', 'when', 'it', \"'s\", 'used', '.'], ['Great', 'tablet', 'for', 'the', 'price', '.', 'It', 'is', 'easy', 'to', 'navigate', '.'], ['I', 'believe', 'that', 'this', 'will', 'be', 'very', 'useful', 'during', 'my', 'husbands', 'recovery', 'from', 'foot', 'surgery', '.'], ['This', 'is', 'something', 'that', 'is', 'useful', 'if', 'your', 'looking', 'for', 'something', 'to', 'take', 'along', 'trips'], ['This', 'is', 'a', 'wonderful', 'device', '.', 'I', 'love', 'the', 'extra', 'capabilities', 'and', 'apps', '.'], ['Decent', 'tablet', '.', 'Access', 'to', 'kindle', 'and', 'pretty', 'much', 'all', 'your', 'google', 'apps', '.'], ['I', 'am', 'very', 'happy', 'with', 'this', 'tablet', '.', 'The', 'worst', 'thing', 'is', 'that', 'my', 'steals', 'it', 'all', 'the', 'time', '.', 'Lol'], ['A', 'family', 'member', 'has', 'vision', 'problems', '.', 'They', 'had', 'seen/used', 'the', 'Kindle', 'of', 'another', 'family', 'member', '-', 'especially', 'the', 'ability', 'to', 'scale', 'text', '.', 'This', 'device', 'will', 'make', 'it', 'possible', 'to', 'read', ',', 'which', 'she', 'has', 'had', 'extreme', 'difficulty', 'doing', '.'], ['Easy', 'setup', 'and', 'connect', 'to', 'WIFI', '.', 'Great', 'viewing', 'area', '.', 'Easy', 'to', 'read', 'in', 'bright', 'places', '.'], ['I', 'got', 'this', 'fire', 'for', 'my', 'friend', 'who', 'wants', 'to', 'buy', 'kindle', '..', 'this', 'serves', 'both', 'Kindle', 'and', 'Tab', '...', 'very', 'nice', 'and', 'very', 'cheap', '..', 'worth', 'for', 'what', 'i', 'paid', '..', 'I', 'highly', 'recommend', 'this', 'for', 'beginners'], ['Really', 'enjoyed', 'the', 'price', 'value', 'of', 'this', 'tablet', 'versus', 'ipad'], ['Amazing', 'tablet', 'with', 'fast', 'processor', '.', 'It', 'looks', 'great', '...', 'got', 'good', 'deal'], ['We', 'got', 'this', 'for', 'our', '5', 'year', 'old', 'and', 'this', 'is', 'really', 'great', 'for', 'the', 'price', '.', 'Works', 'like', 'a', 'charm', '!', '!'], ['I', 'find', 'it', 'easy', 'to', 'use', ',', 'but', 'the', 'kindle', 'does', 'not', 'come', 'with', 'instructions', ',', 'so', 'you', 'have', 'to', 'find', 'your', 'way', 'around', '.'], ['I', 'bought', 'this', 'because', 'I', 'was', 'tired', 'of', 'watching', 'Youtube', 'and', 'Twitch', 'on', 'my', 'phone', '.', 'Excellent', 'display', 'sound', 'is', 'decent-not', 'great', 'but', 'you', 'can', 'always', 'buy', 'a', 'speaker', '.', 'The', 'negatives', 'are-it', 'is', 'definitely', 'a', 'fingerprint', 'magnet', ',', 'and', 'the', 'Spectrum', 'TV', 'app', 'is', 'AWFUL-the', 'app', 'works', 'fine', 'on', 'my', 'phone', ',', 'but', 'for', 'some', 'reason', 'on', 'this', 'tablet', 'it', 'freezes', 'and', 'is', 'unusable', '.', 'All', 'things', 'considered', ',', 'for', '65', 'bucks', 'it', \"'s\", 'hard', 'to', 'be', 'beat', '.'], ['I', 'love', 'this', 'tablet', '.', 'The', 'battery', 'life', 'last', 'a', 'long', 'time', '.', 'I', 'use', 'my', 'Amazon', 'Kindle', 'Fire', 'predominately', 'for', 'watching', 'movies', 'on', 'Amazon', 'Prime', ',', 'Netflix', \"'s\", ',', 'and', 'checking', 'my', 'emails', '.', 'I', 'also', 'carry', 'it', 'to', 'my', 'appointments', 'and', 'meetings', '.', 'It', 'is', 'a', 'compact', 'tablet', ',', 'and', 'not', 'big', 'and', 'bulky', '.', 'The', 'playback', 'of', 'the', 'movies', 'are', 'great', ',', 'and', 'the', 'movies', 'are', 'HD', '.', 'Great', 'little', 'tablet', 'if', 'you', 'are', 'looking', 'for', 'something', 'to', 'watch', 'movies', 'and', 'checking', 'emails', '.', 'I', 'would', 'definitely', 'recommend', 'this', 'tablet', 'to', 'friends', 'and', 'family', 'members', '.'], ['My', 'daughter', 'loves', 'this', 'kindle', ',', 'she', 'does', 'so', 'much', 'with', 'it', ',', 'well', 'worth', 'the', 'money', '.'], ['Was', 'looking', 'for', 'a', 'tablet', 'that', 'was', 'highly', 'portable', '&', 'could', 'run', 'my', 'DIRECTTV', 'app', '&', 'stream', 'videos', '.', '(', 'Other', 'electronics', 'I', 'have', 'are', 'much', 'older', 'versions', ')', '.', 'Salesman', 'recommended', 'this', 'model', 'to', 'me', 'based', 'on', 'personal', 'experience', '.', 'I', 'am', 'still', 'learning', 'all', 'its', 'functions', 'but', 'so', 'far', 'it', 'seems', 'easy', 'to', 'use', '&', 'is', 'doing', 'what', 'it', 'promised', 'to', 'do', '.'], ['This', 'is', 'my', 'second', 'Fire', ',', 'the', 'other', 'one', 'is', 'now', 'retired', '.', 'I', 'like', 'having', 'HD', '.', 'Works', 'just', 'fine', '.'], ['My', 'wife', 'bought', 'this', 'for', 'me', 'for', 'my', 'birthday', '.', 'I', 'enjoy', 'reading', 'biographys', 'which', 'usually', 'have', 'color', 'photos', '.', 'The', 'regular', 'Kindle', 'make', 'the', 'pics', 'black', 'and', 'white', 'or', 'they', \"'re\", 'are', \"n't\", 'any', '.', 'This', 'allows', 'me', 'to', 'see', 'the', 'color', 'photos', '.', 'I', 'also', 'love', 'the', 'night', 'feature', 'when', 'I', \"'m\", 'in', 'bed', 'reading', '.', 'I', 'no', 'longer', 'need', 'a', 'light', 'on', 'to', 'read', 'or', 'need', 'to', 'hold', 'a', 'large', 'book', '.'], ['Thanks', 'to', 'a', 'knowledgeable', ',', 'low-pressure', 'salesperson', ',', 'I', 'was', 'ready', 'to', 'buy', 'my', 'first', 'tablet', '.', 'This', 'one', 'was', 'the', 'right', 'price', '(', 'on', 'sale', ')', 'and', 'I', 'have', 'not', 'been', 'disappointed', '.', 'Every', 'few', 'days', 'I', 'learn', 'more', 'ways', 'to', 'use', 'it', 'besides', 'checking', 'e-mails', '&', 'checking', 'out', 'library', 'books', '&', 'audio', 'books', '.', 'It', 'stays', 'charged', 'for', 'days', ',', 'even', 'with', 'regular', 'use', '.', 'I', 'recommend', 'it', 'as', 'an', 'inexpensive', 'and', 'very', 'satisfactory', 'alternative', 'to', 'more', 'expensive', 'tablets', '.'], ['It', \"'s\", 'a', 'great', 'tablet', 'for', 'the', 'price', '.', 'Do', \"n't\", 'expect', 'it', 'to', 'be', 'as', 'fast', 'more', 'expensive', 'ones', '.', 'It', \"'s\", 'meant', 'for', 'casual', 'use', 'and', 'it', 'does', 'a', 'great', 'job', 'at', 'that', '.', 'For', 'the', 'price', ',', 'you', 'ca', \"n't\", 'beat', 'it', '.', 'Get', 'a', 'nice', 'large', 'microsd', 'card', 'and', 'you', 'do', \"n't\", 'have', 'to', 'worry', 'about', 'space', '.', 'It', 'runs', 'a', 'little', 'slow', 'on', 'certain', 'things', 'if', 'you', 'are', 'multitasking', 'but', 'it', \"'s\", 'a', 'simple', 'tablet', '.', 'I', \"'ve\", 'run', 'plenty', 'of', '720p', 'videos', 'without', 'fail', '.', 'It', \"'s\", 'great', 'for', 'ebooks', 'or', 'other', 'files', '.', 'Some', 'more', 'elaborate', 'pdfs', 'take', 'a', 'while', 'to', 'load', 'if', 'they', 'have', 'a', 'lol', 'of', 'graphics', '.', 'Battery', 'life', 'seems', 'good', 'for', 'a', 'small', 'table', 'too.The', 'only', 'real', 'Issue', 'I', 'have', 'is', 'the', 'Amazon', 'App', 'store', 'being', 'limited', '.', 'It', 'is', 'an', 'offshoot', 'of', 'Android', 'but', 'not', 'all', 'the', 'same', 'apps', 'are', 'available', '.', 'There', 'is', 'a', 'way', 'around', 'it', 'but', 'I', 'wish', 'they', 'would', 'just', 'allow', 'it', 'access', 'to', 'Google', 'Play', 'or', 'at', 'least', 'offer', 'the', 'same', 'apps.So', ',', 'it', \"'s\", 'a', 'nice', 'inexpensive', 'table', 'that', 'works', 'great', '.', 'For', 'the', 'money', ',', 'you', 'will', 'love', 'it', 'but', 'do', \"n't\", 'get', 'upset', 'that', 'is', 'does', \"n't\", 'run', 'as', 'fast', 'as', 'a', '$', '500', 'tablet', '.', 'That', \"'s\", 'not', 'its', 'job', '.'], ['Bought', 'it', 'for', 'my', '10', 'yr', 'old', 'granddaughter', '.', 'Does', 'everything', 'she', 'wants', 'it', 'to', 'do', 'in', 'a', 'tablet', '.'], ['Very', 'easy', 'to', 'use', 'tablet', '.', 'Lots', 'of', 'apps', 'and', 'game', 'available', '.'], ['We', 'love', 'the', 'FreeTime', 'settings', 'for', 'kids', 'on', 'the', 'newer', 'Kindle', 'Fires', '.', 'I', 'was', 'able', 'to', 'create', 'a', 'login', 'for', 'each', 'of', 'our', 'kids', 'as', 'well', 'as', 'myself', 'and', 'set', 'limits', 'to', 'the', 'amount', 'of', 'device', 'time', 'they', 'are', 'allowed', 'daily', '(', 'can', 'set', 'to', 'more', 'for', 'weekends', 'if', 'desired', ')', '.', 'You', 'can', 'set', 'the', 'age', 'restrictions', 'for', 'content', 'also', ',', 'to', 'avoid', 'inappropriate', 'ads', ',', 'etc', '.', 'Once', 'you', \"'ve\", 'downloaded', 'apps', ',', 'you', 'can', 'choose', 'which', 'ones', 'you', 'want', 'each', 'child', 'to', 'have', 'access', 'to', 'in', 'their', 'profile', 'settings', ',', 'so', 'if', 'one', 'child', 'is', 'older', 'you', 'can', 'allow', 'them', 'access', 'to', 'something', 'their', 'younger', 'siblings', 'should', \"n't\", 'have', '.', 'Basically', ',', 'I', 'like', 'that', 'I', 'can', 'set', 'their', 'access', 'rights', 'and', 'know', 'they', \"'re\", 'safe', 'so', 'I', 'do', \"n't\", 'have', 'to', 'continually', 'monitor', 'every', 'moment', '.', 'By', 'the', 'way', ',', 'FreeTime', 'kids', 'settings', 'are', 'available', 'without', 'having', 'to', 'subscribe', 'to', 'their', 'FreeTime', 'app', 'access', 'plan', '.', ':', ')'], ['Great', 'tablet', ',', 'very', 'clear', 'picture', '.', 'Would', 'buy', 'again', '.'], ['Good', 'reader', 'which', 'is', 'why', 'I', 'bought', 'it', '.', 'Ads', 'are', 'annoying', '.'], ['It', \"'s\", 'a', 'mini', 'computer', 'packed', 'in', 'a', 'handheld', 'devise', '.', 'Applications', 'load', 'quickly', 'and', 'I', 'am', 'able', 'to', 'get', 'my', 'work', 'completed', ',', 'while', 'riding', 'the', 'commuter', 'rail', '.'], ['Nice', 'for', 'a', 'smaller', 'tablet', '.', 'It', \"'s\", 'good', 'for', 'Internet', 'surfing', '.'], ['Purchased', 'as', 'a', 'door', 'prize', 'gift', 'given', 'with', 'a', 'one', 'year', 'Amazon', 'membership', '.', 'The', 'recipient', 'loves', 'it', 'and', 'says', 'it', 'performs', 'very', 'well', '.', '(', 'As', 'a', 'past', 'Amazon', 'Fire', 'user', ',', 'now', 'i-Pad', 'graduate', ',', 'I', 'loved', 'my', 'Amazon', 'Fire', 'for', 'more', 'than', '4', 'years', 'without', 'any', 'problems', '.', 'In', 'fact', ',', 'I', 'just', 'recycled', 'it', 'on', 'to', 'my', 'son', 'and', 'it', 'runs', 'like', 'a', 'champ', ')', '.'], ['I', 'have', '4', 'other', 'kinds', 'of', 'tables', '.', 'This', 'the', 'best', 'I', 'have', 'had', '.', 'I', 'can', 'listen', 'to', 'music', ',', 'read', 'a', 'book', ',', 'listen', 'to', 'a', 'book', ',', 'or', 'watch', 'movies/tv', 'shows', '.'], ['Great', 'product', 'for', 'the', 'kids', 'gaming', 'apps', 'parental', 'controls', 'to', 'make', 'sure', 'you', 'can', 'monitor', 'kids', 'and', 'prevent', 'unwanted', 'app', 'purchases']]\n"
          ]
        }
      ]
    },
    {
      "cell_type": "markdown",
      "source": [
        "# Stemming"
      ],
      "metadata": {
        "id": "bq8l7HOCv44u"
      }
    },
    {
      "cell_type": "code",
      "source": [
        "from nltk.stem.porter import PorterStemmer\n",
        "porter_stemmer  = PorterStemmer()\n",
        "\n",
        "AfterLemmatization\n",
        "\n",
        "AfterLemmatization_Stemming=[]\n",
        "for text in AfterLemmatization:\n",
        "  #t=[]\n",
        "  #for word in text:\n",
        "  #print(\"Stem=\", text,\"\\n\", porter_stemmer.stem(text))\n",
        "  AfterLemmatization_Stemming.append(porter_stemmer.stem(text))\n",
        "    #print(text,\"\\n\",t)\n",
        "#AfterLemmatization_Stemming=AfterLemmatization_Stemming+t\n"
      ],
      "metadata": {
        "id": "mcvtxRI7v4Q8"
      },
      "execution_count": 21,
      "outputs": []
    },
    {
      "cell_type": "code",
      "source": [
        "print(AfterLemmatization_Stemming)"
      ],
      "metadata": {
        "colab": {
          "base_uri": "https://localhost:8080/"
        },
        "id": "VBn1qDOVv2uB",
        "outputId": "1b1d28b9-b5b6-462c-ec57-26d8600a8d66"
      },
      "execution_count": 22,
      "outputs": [
        {
          "output_type": "stream",
          "name": "stdout",
          "text": [
            "['this product so far ha not disappointed . my child love to use it and i like the ability to monitor control what content they see with ease .', 'great for beginner or experienced person . bought a a gift and she love it', 'inexpensive tablet for him to use and learn on , step up from the nabi . he wa thrilled with it , learn how to skype on it already ...', \"i 've had my fire hd 8 two week now and i love it . this tablet is a great value.we are prime members and that is where this tablet shines . i love being able to easily access all of the prime content a well a movie you can download and watch laterthis ha a 1280/800 screen which ha some really nice look to it it nice and crisp and very bright infact it is brighter then the ipad pro costing $ 900 base model . the build on this fire is insanely awesome running at only 7.7mm thick and the smooth glossy feel on the back it is really amazing to hold it like the futuristic tab in ur hand .\", 'i bought this for my grand daughter when she come over to visit . i set it up with her a the user , entered her age and name and now amazon make sure that she only access site and content that are appropriate to her age . simple to do and she love the capability . i also bought and installed a 64gig sd card which give this little tablet plenty of storage . for the price i think this tablet is best one out there . you can spend hundred of dollar more for additional speed and capacity but when it come to the basic this tablet doe everything that most people will ever need at a fraction of the cost .', 'this amazon fire 8 inch tablet is the perfect size . i purchased it for my husband so that he ha a bigger screen than just his phone . he had gotten me one a few year ago so i knew it would be a good purchase .', 'great for e-reading on the go , nice and light weight , and for the price point given , definitely worth the purchase .', 'i gave this a a christmas gift to my inlaws , husband and uncle . they loved it and how easy they are to use with fantastic feature !', 'great a a device to read book . i like that it link with my borrowed library e-books . switched from another popular tablet brand and i am happy with the choice i made . it took some time to get book from my previous non-kindle reader , but finally figured out a way !', 'i love ordering book and reading them with the reader .', 'not easy for elderly user cease of ad that pop up .', 'excellent product . easy to use , large screen make watching movie and reading easier .', 'wanted my father to have his first tablet and this is a very good value . he can watch movie and play a few game . easy enough for him to use .', 'simply doe everything i need . thank youand silk work wond', 'got it a a present and love the size of the screen', 'the kindle is easiest to use , graphic and screen crisp , clear , brilliant color .', 'nice reader . almost perfect for what i want/need . good bargain', 'i really like this tablet . i would have given 5 star but sometimes you have to push start several time after you unlock the screen and it is a little annoying .', 'great video quality lot of fun apps fun for the whole famili', 'love love love my kindle fire 8 ..... this is what my 9 yr old granddaughter said when i bought this for her at christmas .. we have purchased kindled in the past but this one ha been the best .... love the fact that you can now use a memory card in it ... that help so much when you use it for book ... game ... music and viedos ... thank', 'excellent tablet with nice screen . i wish amazon would pre install the play store , this would have been perfect .', 'preloaded with the reading app from kindle but expandable with other apps . perfect for travel . carry your library , game and productivity apps in a small footprint .', 'very happy with this product and easy to use .. picture is clear , take great picture ..', \"my grandchild are home schooled and utilize the table for many learning apps ! they love using them a it make them feel `` so grown up '' ! the tablet are a great leaning tool and they are receiving many benefit from them !\", 'great size , easy to carry for traveling . need to spend more time looking into apps for contact manegement , interactive calender and most important , music storage and use .', 'i purchased this when my last tablet died . it meet all basic need and the price wa great .', 'perfect for downloading and reading book ! ! perfect size and ha a nice , bright screen .', \"i wa surprised when i learned of the capability of this device . now my husband ha more access to his desktop and i am doing thing which i could n't on his device .\", 'i got it for my son . its user friendly and durable .', 'the visual quality on the fire 8 hd is amazing . it run very fast and is easy to use , very durable .', 'if your looking for a affordable gift this is it ! .', 'this is a great tablet for the price , would recommend it to anyone looking for a basic tablet .', 'works great . love the portability of book . overall great product', 'i am still learning all the thing i can do with my new kindle fire . it is so much better ( lighter in weight and easier to use ) than my old tablet .', 'just the right size for reading book and playing some game .', \"i love everything about this tablet ! the imaging is sharp and clear . it 's fast and light weight . love it !\", 'overall a nice product for traveling purpose value for money', 'my child love this table great quality of picture , excellent camera', 'i bought 3 tablet and my family wa not disappointed .', 'great tablet fast screen good size never give me problem', 'bought this for my 87 year old grandmother who wanted to be able to play game and read book from the library . my aunt life with her and can help her use it so it perfect for that type of user . after playing with it , i would consider it for just about anyone other than a hardcore user that want the latest and greatest tech . if you are tech saavy , you can do more with these fire tablet than advertised .', 'this is exactly what the person wanted a a gift and she enjoys using it .', 'does all basic function of a tablet . hardcore user may want an ipad .', 'works great for a simple tablet . not a huge fan of the silk browser but it could be worse ! i am very happy with my purchase !', \"it 's fast and easy to use . this is my second kindle fire .\", 'more flexibility than a kindle and bigger screen . like it because i can surf the web and download and read book .', 'for the money you can not beat this tablet . full of feature , picture quality is great , and very fast speed while using the internet .', 'easy to use , solid build , sharp hp screen for movie . who need more ?', 'tablet is perfect for beginner who just want bas', 'this is my first tablet .. love it .. actually read my first e-book on it .. large screen , easy to read & play game .. fit nicely in my purs', 'this 8 inch fire is definitely better than the cheaper 7 inch . it work fine enough for teen to play game and watch movie .', 'great tablet for under $ 100 . does not have the highest spec , but get the job done for lite tablet user .', 'i purchased the kindle fire because i needed a entertainment only device for long flight . this device is the perfect size for travel and easy to use and set up with your amazon account . it is worth purchasing a fire tablet if you are an amazon prime member . if not , i would not recommend it because the available apps are limited . my only complaint about this device is that if it freeze it is difficult to reset .', 'this fire tablet ha long battery life . reasonable fast', 'got this for my wife and she love it . she had the previous generation and this one is a giant keep forward .', 'sleek packaging easy set up and great for anyone who want a e reader with more to offer .', 'best and most affordable option of all the kindle device available .', 'i did not want to get a new kindle but my old one would not charge or show a charge anymore . i could not depend on it for any length of time so i finally broke down and bought a new one . i am very happy with this one . i wa afraid i would lose my music and photo since not all came from the amazon store . however , everything i had on the old kindle transferred to the new one . i am still learning all about it but so far so good .', 'my daughter like this tablet to play her online game !', 'easy to figure out and used it extensively on my vacation .', \"excellent tablet to leave at my easel and display reference photo . it 's light enough to velcro to a articulating stand ( so i can position the tablet right next to my canvas ) . it 's cheap enough to not worry about . i love it , for the price .\", 'i bought this wanting for book comic and movie and it ha not disappoint ever sinc', 'my 4 year old grandson love his kindle . he had to have one after his sister got one .', 'easy to use . as a beginner i found this pad very good . enjoy the kindle app .', 'this kindle doe what i need it to do . the camera could be better but overall i am pretty happy with my purchase .', 'purchased this for my daughter to do more reading . it ha so much more option for her if she want .', 'this is a great tablet for the price . my kid love it , doe alot reading on it .', \"i wa really hoping that this would be faster than some other inexspensive tablet i 've had . i mainly use it for email though and it doe the job .\", \"bought a a christmas gift for someone . i bought ipad a well . will update when it 's used .\", 'great tablet for the price . it is easy to navigate .', 'i believe that this will be very useful during my husband recovery from foot surgery .', 'this is something that is useful if your looking for something to take along trip', 'this is a wonderful device . i love the extra capability and apps .', 'decent tablet . access to kindle and pretty much all your google apps .', 'i am very happy with this tablet . the worst thing is that my steal it all the time . lol', 'a family member ha vision problem . they had seen/used the kindle of another family member - especially the ability to scale text . this device will make it possible to read , which she ha had extreme difficulty doing .', 'easy setup and connect to wifi . great viewing area . easy to read in bright place .', 'i got this fire for my friend who want to buy kindle .. this serf both kindle and tab ... very nice and very cheap .. worth for what i paid .. i highly recommend this for beginn', 'really enjoyed the price value of this tablet versus ipad', 'amazing tablet with fast processor . it look great ... got good d', 'we got this for our 5 year old and this is really great for the price . works like a charm ! !', 'i find it easy to use , but the kindle doe not come with instruction , so you have to find your way around .', \"i bought this because i wa tired of watching youtube and twitch on my phone . excellent display sound is decent-not great but you can always buy a speaker . the negative are-it is definitely a fingerprint magnet , and the spectrum tv app is awful-the app work fine on my phone , but for some reason on this tablet it freeze and is unusable . all thing considered , for 65 buck it 's hard to be beat .\", \"i love this tablet . the battery life last a long time . i use my amazon kindle fire predominately for watching movie on amazon prime , netflix 's , and checking my email . i also carry it to my appointment and meeting . it is a compact tablet , and not big and bulky . the playback of the movie are great , and the movie are hd . great little tablet if you are looking for something to watch movie and checking email . i would definitely recommend this tablet to friend and family member .\", 'my daughter love this kindle , she doe so much with it , well worth the money .', 'was looking for a tablet that wa highly portable & could run my directtv app & stream video . ( other electronics i have are much older version ) . salesman recommended this model to me based on personal experience . i am still learning all it function but so far it seems easy to use & is doing what it promised to do .', 'this is my second fire , the other one is now retired . i like having hd . works just fine .', \"my wife bought this for me for my birthday . i enjoy reading biography which usually have color photo . the regular kindle make the pic black and white or they 're are n't any . this allows me to see the color photo . i also love the night feature when i 'm in bed reading . i no longer need a light on to read or need to hold a large book .\", 'thanks to a knowledgeable , low-pressure salesperson , i wa ready to buy my first tablet . this one wa the right price ( on sale ) and i have not been disappointed . every few day i learn more way to use it besides checking e-mail & checking out library book & audio book . it stay charged for day , even with regular use . i recommend it a an inexpensive and very satisfactory alternative to more expensive tablet .', \"it 's a great tablet for the price . do n't expect it to be a fast more expensive one . it 's meant for casual use and it doe a great job at that . for the price , you ca n't beat it . get a nice large microsd card and you do n't have to worry about space . it run a little slow on certain thing if you are multitasking but it 's a simple tablet . i 've run plenty of 720p video without fail . it 's great for ebooks or other file . some more elaborate pdfs take a while to load if they have a lol of graphic . battery life seems good for a small table too.the only real issue i have is the amazon app store being limited . it is an offshoot of android but not all the same apps are available . there is a way around it but i wish they would just allow it access to google play or at least offer the same apps.so , it 's a nice inexpensive table that work great . for the money , you will love it but do n't get upset that is doe n't run a fast a a $ 500 tablet . that 's not it job .\", 'bought it for my 10 yr old granddaughter . does everything she want it to do in a tablet .', 'very easy to use tablet . lots of apps and game available .', \"we love the freetime setting for kid on the newer kindle fires . i wa able to create a login for each of our kid a well a myself and set limit to the amount of device time they are allowed daily ( can set to more for weekend if desired ) . you can set the age restriction for content also , to avoid inappropriate ad , etc . once you 've downloaded apps , you can choose which one you want each child to have access to in their profile setting , so if one child is older you can allow them access to something their younger sibling should n't have . basically , i like that i can set their access right and know they 're safe so i do n't have to continually monitor every moment . by the way , freetime kid setting are available without having to subscribe to their freetime app access plan . : )\", 'great tablet , very clear picture . would buy again .', 'good reader which is why i bought it . ads are annoying .', \"it 's a mini computer packed in a handheld devise . applications load quickly and i am able to get my work completed , while riding the commuter rail .\", \"nice for a smaller tablet . it 's good for internet surfing .\", 'purchased a a door prize gift given with a one year amazon membership . the recipient love it and say it performs very well . ( as a past amazon fire user , now i-pad graduate , i loved my amazon fire for more than 4 year without any problem . in fact , i just recycled it on to my son and it run like a champ ) .', 'i have 4 other kind of table . this the best i have had . i can listen to music , read a book , listen to a book , or watch movies/tv show .', 'great product for the kid gaming apps parental control to make sure you can monitor kid and prevent unwanted app purchas']\n"
          ]
        }
      ]
    },
    {
      "cell_type": "code",
      "source": [
        "vectorizer = TfidfVectorizer()\n",
        "vectorizer.fit(AfterLemmatization_Stemming)\n",
        "skl_output = vectorizer.transform(AfterLemmatization_Stemming)\n",
        "print(skl_output)\n",
        "print(vectorizer.get_feature_names())\n",
        "print(len(vectorizer.idf_))\n",
        "print(skl_output.shape)\n",
        "#print(skl_output[0])"
      ],
      "metadata": {
        "colab": {
          "base_uri": "https://localhost:8080/"
        },
        "id": "lTdj1AM0vsns",
        "outputId": "487f25f6-ffb7-4c2e-a73c-0c812fc2b0c4"
      },
      "execution_count": 23,
      "outputs": [
        {
          "output_type": "stream",
          "name": "stdout",
          "text": [
            "  (0, 694)\t0.1452442894155986\n",
            "  (0, 681)\t0.2071026509761138\n",
            "  (0, 647)\t0.14275135693146335\n",
            "  (0, 626)\t0.19492340692583784\n",
            "  (0, 621)\t0.09975905956461292\n",
            "  (0, 617)\t0.2071026509761138\n",
            "  (0, 611)\t0.08907956122571292\n",
            "  (0, 569)\t0.1702818534129043\n",
            "  (0, 541)\t0.26455479521225045\n",
            "  (0, 489)\t0.21492426192986516\n",
            "  (0, 426)\t0.1665015048825181\n",
            "  (0, 408)\t0.1085935212087118\n",
            "  (0, 400)\t0.24770379706970952\n",
            "  (0, 376)\t0.14275135693146335\n",
            "  (0, 359)\t0.18844920070780377\n",
            "  (0, 332)\t0.09525106102935388\n",
            "  (0, 286)\t0.18844920070780377\n",
            "  (0, 226)\t0.24770379706970952\n",
            "  (0, 187)\t0.28830494316330524\n",
            "  (0, 171)\t0.24770379706970952\n",
            "  (0, 149)\t0.26455479521225045\n",
            "  (0, 147)\t0.23463314745755479\n",
            "  (0, 130)\t0.24770379706970952\n",
            "  (0, 43)\t0.09006403939328549\n",
            "  (0, 11)\t0.26455479521225045\n",
            "  :\t:\n",
            "  (98, 293)\t0.29703555918626945\n",
            "  (98, 287)\t0.17056704911189488\n",
            "  (98, 114)\t0.14851777959313472\n",
            "  (98, 93)\t0.29703555918626945\n",
            "  (98, 86)\t0.19990001849252362\n",
            "  (99, 706)\t0.1629144961323019\n",
            "  (99, 642)\t0.2694367544004711\n",
            "  (99, 626)\t0.09108329802210728\n",
            "  (99, 611)\t0.08324972716988424\n",
            "  (99, 594)\t0.24724094079335407\n",
            "  (99, 493)\t0.2694367544004711\n",
            "  (99, 489)\t0.2008584901144007\n",
            "  (99, 481)\t0.2694367544004711\n",
            "  (99, 450)\t0.2694367544004711\n",
            "  (99, 400)\t0.2314927604183723\n",
            "  (99, 383)\t0.2008584901144007\n",
            "  (99, 337)\t0.4629855208367446\n",
            "  (99, 283)\t0.12497050215020308\n",
            "  (99, 262)\t0.2694367544004711\n",
            "  (99, 248)\t0.09108329802210728\n",
            "  (99, 149)\t0.24724094079335407\n",
            "  (99, 114)\t0.1629144961323019\n",
            "  (99, 54)\t0.17135295282915644\n",
            "  (99, 50)\t0.19354876643627347\n",
            "  (99, 43)\t0.08416977591874882\n",
            "['10', '100', '1280', '500', '64gig', '65', '720p', '7mm', '800', '87', '900', 'ability', 'able', 'about', 'access', 'account', 'actually', 'ad', 'additional', 'ads', 'advertised', 'affordable', 'afraid', 'after', 'again', 'age', 'ago', 'all', 'allow', 'allowed', 'allows', 'almost', 'along', 'alot', 'already', 'also', 'alternative', 'always', 'am', 'amazing', 'amazon', 'amount', 'an', 'and', 'android', 'annoying', 'another', 'any', 'anymore', 'anyone', 'app', 'applications', 'appointment', 'appropriate', 'apps', 'are', 'area', 'around', 'articulating', 'as', 'at', 'audio', 'aunt', 'available', 'avoid', 'awesome', 'awful', 'back', 'bargain', 'bas', 'base', 'based', 'basic', 'basically', 'battery', 'be', 'beat', 'because', 'bed', 'been', 'beginn', 'beginner', 'being', 'believe', 'benefit', 'besides', 'best', 'better', 'big', 'bigger', 'biography', 'birthday', 'black', 'book', 'books', 'borrowed', 'both', 'bought', 'brand', 'bright', 'brighter', 'brilliant', 'broke', 'browser', 'buck', 'build', 'bulky', 'but', 'buy', 'by', 'ca', 'calender', 'came', 'camera', 'can', 'canvas', 'capability', 'capacity', 'card', 'carry', 'casual', 'cease', 'certain', 'champ', 'charge', 'charged', 'charm', 'cheap', 'cheaper', 'checking', 'child', 'choice', 'choose', 'christmas', 'clear', 'color', 'come', 'comic', 'commuter', 'compact', 'complaint', 'completed', 'computer', 'connect', 'consider', 'considered', 'contact', 'content', 'continually', 'control', 'cost', 'costing', 'could', 'create', 'crisp', 'daily', 'daughter', 'day', 'decent', 'definitely', 'depend', 'desired', 'desktop', 'device', 'devise', 'did', 'died', 'difficult', 'difficulty', 'directtv', 'disappoint', 'disappointed', 'display', 'do', 'doe', 'does', 'doing', 'dollar', 'done', 'door', 'down', 'download', 'downloaded', 'downloading', 'durable', 'during', 'each', 'ease', 'easel', 'easier', 'easiest', 'easily', 'easy', 'ebooks', 'elaborate', 'elderly', 'electronics', 'email', 'enjoy', 'enjoyed', 'enjoys', 'enough', 'entered', 'entertainment', 'especially', 'etc', 'even', 'ever', 'every', 'everything', 'exactly', 'excellent', 'expandable', 'expect', 'expensive', 'experience', 'experienced', 'extensively', 'extra', 'extreme', 'fact', 'fail', 'famili', 'family', 'fan', 'fantastic', 'far', 'fast', 'faster', 'father', 'feature', 'feel', 'few', 'figure', 'figured', 'file', 'finally', 'find', 'fine', 'fingerprint', 'fire', 'fires', 'first', 'fit', 'flexibility', 'flight', 'foot', 'footprint', 'for', 'forward', 'found', 'fraction', 'freetime', 'freeze', 'friend', 'friendly', 'from', 'full', 'fun', 'function', 'futuristic', 'game', 'gaming', 'gave', 'generation', 'get', 'giant', 'gift', 'give', 'given', 'glossy', 'go', 'good', 'google', 'got', 'gotten', 'graduate', 'grand', 'grandchild', 'granddaughter', 'grandmother', 'grandson', 'graphic', 'great', 'greatest', 'grown', 'ha', 'had', 'hand', 'handheld', 'happy', 'hard', 'hardcore', 'have', 'having', 'hd', 'he', 'help', 'her', 'highest', 'highly', 'him', 'his', 'hold', 'home', 'hoping', 'how', 'however', 'hp', 'huge', 'hundred', 'husband', 'if', 'imaging', 'important', 'in', 'inappropriate', 'inch', 'inexpensive', 'inexspensive', 'infact', 'inlaws', 'insanely', 'install', 'installed', 'instruction', 'interactive', 'internet', 'into', 'ipad', 'is', 'issue', 'it', 'its', 'job', 'just', 'keep', 'kid', 'kind', 'kindle', 'kindled', 'knew', 'know', 'knowledgeable', 'large', 'last', 'laterthis', 'latest', 'leaning', 'learn', 'learned', 'learning', 'least', 'leave', 'length', 'library', 'life', 'light', 'lighter', 'like', 'limit', 'limited', 'link', 'listen', 'lite', 'little', 'load', 'login', 'lol', 'long', 'longer', 'look', 'looking', 'lose', 'lot', 'lots', 'love', 'loved', 'low', 'made', 'magnet', 'mail', 'mainly', 'make', 'manegement', 'many', 'may', 'me', 'meant', 'meet', 'meeting', 'member', 'members', 'membership', 'memory', 'microsd', 'mini', 'model', 'moment', 'money', 'monitor', 'more', 'most', 'movie', 'movies', 'much', 'multitasking', 'music', 'my', 'myself', 'nabi', 'name', 'navigate', 'need', 'needed', 'negative', 'netflix', 'never', 'new', 'newer', 'next', 'nice', 'nicely', 'night', 'no', 'non', 'not', 'now', 'of', 'offer', 'offshoot', 'old', 'older', 'on', 'once', 'one', 'online', 'only', 'option', 'or', 'ordering', 'other', 'our', 'out', 'over', 'overall', 'packaging', 'packed', 'pad', 'paid', 'parental', 'past', 'pdfs', 'people', 'perfect', 'performs', 'person', 'personal', 'phone', 'photo', 'pic', 'picture', 'place', 'plan', 'play', 'playback', 'playing', 'plenty', 'point', 'pop', 'popular', 'portability', 'portable', 'position', 'possible', 'pre', 'predominately', 'preloaded', 'present', 'pressure', 'pretty', 'prevent', 'previous', 'price', 'prime', 'prize', 'pro', 'problem', 'processor', 'product', 'productivity', 'profile', 'promised', 'purchas', 'purchase', 'purchased', 'purchasing', 'purpose', 'purs', 'push', 'quality', 'quickly', 'rail', 're', 'read', 'reader', 'reading', 'ready', 'real', 'really', 'reason', 'reasonable', 'receiving', 'recipient', 'recommend', 'recommended', 'recovery', 'recycled', 'reference', 'regular', 'reset', 'restriction', 'retired', 'riding', 'right', 'run', 'running', 'saavy', 'safe', 'said', 'sale', 'salesman', 'salesperson', 'same', 'satisfactory', 'say', 'scale', 'schooled', 'screen', 'sd', 'second', 'see', 'seems', 'seen', 'serf', 'set', 'setting', 'setup', 'several', 'sharp', 'she', 'shines', 'should', 'show', 'sibling', 'silk', 'simple', 'simply', 'sinc', 'since', 'sister', 'site', 'size', 'skype', 'sleek', 'slow', 'small', 'smaller', 'smooth', 'so', 'solid', 'some', 'someone', 'something', 'sometimes', 'son', 'sound', 'space', 'speaker', 'spec', 'spectrum', 'speed', 'spend', 'stand', 'star', 'start', 'stay', 'steal', 'step', 'still', 'storage', 'store', 'stream', 'subscribe', 'sure', 'surf', 'surfing', 'surgery', 'surprised', 'switched', 'tab', 'table', 'tablet', 'take', 'tech', 'teen', 'text', 'than', 'thank', 'thanks', 'that', 'the', 'their', 'them', 'then', 'there', 'these', 'they', 'thick', 'thing', 'think', 'this', 'though', 'thrilled', 'time', 'tired', 'to', 'too', 'took', 'tool', 'transferred', 'travel', 'traveling', 'trip', 'tv', 'twitch', 'two', 'type', 'uncle', 'under', 'unlock', 'unusable', 'unwanted', 'up', 'update', 'upset', 'ur', 'use', 'used', 'useful', 'user', 'using', 'usually', 'utilize', 'vacation', 'value', 've', 'velcro', 'version', 'versus', 'very', 'video', 'viedos', 'viewing', 'vision', 'visit', 'visual', 'wa', 'want', 'wanted', 'wanting', 'was', 'watch', 'watching', 'way', 'we', 'web', 'week', 'weekend', 'weight', 'well', 'what', 'when', 'where', 'which', 'while', 'white', 'who', 'whole', 'why', 'wife', 'wifi', 'will', 'wish', 'with', 'without', 'wond', 'wonderful', 'work', 'works', 'worry', 'worse', 'worst', 'worth', 'would', 'year', 'you', 'youand', 'younger', 'your', 'youtube', 'yr']\n",
            "712\n",
            "(100, 712)\n"
          ]
        }
      ]
    },
    {
      "cell_type": "markdown",
      "source": [
        "# Word2Vector"
      ],
      "metadata": {
        "id": "1U0QQ1tc47CA"
      }
    },
    {
      "cell_type": "code",
      "source": [
        "print(len(AfterLemmatization_Stemming))\n",
        "#word2vec need list of list format\n",
        "rev=[]\n",
        "for sentences in AfterLemmatization_Stemming:\n",
        "  #print(sentences,\"\\n\")\n",
        "  tex=[sentences]\n",
        "  rev.append(tex)\n",
        "print(len(rev))"
      ],
      "metadata": {
        "colab": {
          "base_uri": "https://localhost:8080/"
        },
        "id": "R9RdTZBq8xJ3",
        "outputId": "ba7f0267-6b65-44ef-d808-273045e9152e"
      },
      "execution_count": 69,
      "outputs": [
        {
          "output_type": "stream",
          "name": "stdout",
          "text": [
            "100\n",
            "100\n"
          ]
        }
      ]
    },
    {
      "cell_type": "code",
      "source": [
        "import gensim\n",
        "from gensim.models import Word2Vec\n",
        "model = gensim.models.Word2Vec(min_count = 3, size = 100, window = 2, sg=1) \n",
        "#model2 = gensim.models.Word2Vec(AfterLemmatization_Stemming, min_count = 1, size = 100, window = 5, sg = 1)\n",
        "#return the list of words learned\n",
        "#print(model1.wv)\n",
        "#learned_words = list(model1.wv.vocab)\n",
        "#print the learned words\n",
        "#print(model1.wv.vocab)"
      ],
      "metadata": {
        "id": "MsTRTAwe4_YV"
      },
      "execution_count": 118,
      "outputs": []
    },
    {
      "cell_type": "code",
      "source": [
        "model.build_vocab(Amazon_Reviews_tokenFormat, update=False, progress_per=1000)\n"
      ],
      "metadata": {
        "id": "LzWNGF-qLU6p"
      },
      "execution_count": 119,
      "outputs": []
    },
    {
      "cell_type": "code",
      "source": [
        "model.train(Amazon_Reviews_tokenFormat,total_examples=model.corpus_count, epochs=model.epochs)\n",
        "model.save(\"./word2vec_Trained.model\")\n",
        "\n",
        "#model1.train(rev,total_examples=model1.corpus_count, epochs=model1.epochs)"
      ],
      "metadata": {
        "id": "FCLkBeiJNWmR",
        "colab": {
          "base_uri": "https://localhost:8080/"
        },
        "outputId": "55bc8875-07ee-4251-80df-1d118bccda0d"
      },
      "execution_count": 120,
      "outputs": [
        {
          "output_type": "stream",
          "name": "stderr",
          "text": [
            "WARNING:gensim.models.base_any2vec:under 10 jobs per worker: consider setting a smaller `batch_words' for smoother alpha decay\n"
          ]
        }
      ]
    },
    {
      "cell_type": "code",
      "source": [
        "# count=0\n",
        "# for i in Amazon_Reviews_tokenFormat:\n",
        "#   print(count, i)\n",
        "#   count=count+1\n",
        "\n",
        "vector = model.wv['best']  # get numpy vector of a word\n",
        "print(len(vector))\n",
        "sims = model.wv.most_similar('disappointed', topn=10)  # get other similar words\n",
        "print(vector,sims)\n",
        "print(len(model.wv.vocab))\n",
        "print(model.wv.vector_size)\n",
        "# for i in model.wv.vocab:\n",
        "#   print(i)\n",
        "#print(model.vocabulary)\n"
      ],
      "metadata": {
        "colab": {
          "base_uri": "https://localhost:8080/"
        },
        "id": "TE6KwBArci3Z",
        "outputId": "cd5867ab-bbb0-4daa-bb2e-9a2dce13b262"
      },
      "execution_count": 126,
      "outputs": [
        {
          "output_type": "stream",
          "name": "stdout",
          "text": [
            "100\n",
            "[ 4.0712953e-03 -4.2764982e-03 -1.3266242e-03 -2.1929450e-04\n",
            "  6.1438913e-03  8.7512638e-03 -2.8948118e-03 -1.3120158e-02\n",
            " -6.4643929e-03  6.7983824e-03 -8.3452221e-03 -4.3595303e-03\n",
            "  6.6524087e-03 -1.6133348e-04 -1.4141601e-03 -4.2617102e-03\n",
            " -7.4733975e-03  1.1930986e-03 -3.7229494e-03 -7.1995723e-04\n",
            "  2.6484078e-03  4.0093819e-03 -6.3429475e-03 -1.3932399e-03\n",
            "  6.8699433e-03  1.4177899e-04  5.8474052e-03  7.8529650e-03\n",
            "  7.8745624e-03 -7.1079251e-03  1.2517535e-02  2.3674790e-03\n",
            "  4.7302735e-03  1.4946976e-03  8.3238985e-03 -9.0965843e-03\n",
            "  4.8908121e-03  9.8979976e-03 -9.4045547e-04  7.8635029e-03\n",
            " -5.0000055e-03  2.5940060e-03 -1.9169918e-03 -1.3299511e-03\n",
            "  8.3358953e-04 -1.7407583e-03 -3.5521525e-03  2.4156526e-03\n",
            "  3.2662880e-04 -9.4185991e-04 -5.0372793e-04  4.7200904e-03\n",
            " -1.3617415e-03 -1.5613117e-02 -5.0905030e-03 -6.6222982e-03\n",
            "  3.6247482e-03  1.0436868e-02  6.0078404e-03  3.1170799e-04\n",
            "  5.1325886e-03  2.7805257e-03  7.3738219e-03 -3.2019783e-03\n",
            " -8.6196819e-03 -3.5537351e-03  9.4554499e-03 -4.9905822e-04\n",
            "  1.1305168e-03 -4.8450433e-04 -3.9780559e-03  1.1187725e-03\n",
            " -9.4688162e-03  3.9226506e-03  2.0656444e-03 -3.5832802e-04\n",
            "  1.0349050e-03 -3.6004579e-03 -9.3682471e-04 -1.4857188e-03\n",
            "  8.8681458e-03 -3.3757958e-04 -2.9031823e-03 -6.6552646e-03\n",
            " -3.7837592e-03 -1.2477409e-02  1.6659567e-03 -1.9115643e-05\n",
            " -4.3754666e-03 -8.3734328e-03 -7.3143165e-03  3.2427437e-03\n",
            "  1.1359211e-02 -3.9348258e-03  6.7455075e-03 -1.0516657e-03\n",
            " -4.9970094e-03 -2.6001199e-04 -5.9118033e-03 -8.0001191e-04] [('their', 0.7722642421722412), ('I', 0.7610574960708618), ('a', 0.7587125897407532), ('everything', 0.7584021091461182), ('can', 0.7562777996063232), ('to', 0.753467321395874), ('this', 0.7529629468917847), ('old', 0.7501950263977051), ('my', 0.7497838735580444), ('.', 0.749426007270813)]\n",
            "224\n",
            "100\n"
          ]
        }
      ]
    }
  ]
}